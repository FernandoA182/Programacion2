{
 "cells": [
  {
   "cell_type": "markdown",
   "metadata": {},
   "source": [
    "Run and commented by student: Fernando Arevalo"
   ]
  },
  {
   "cell_type": "markdown",
   "metadata": {
    "id": "1Uh8epSksbY9"
   },
   "source": [
    "## Numpy Basics\n",
    "\n",
    "Bienvenido a la librería Numpy. Esta librería es una de las herramientas más populares y versátiles para el cálculo numérico en Python. Ofrece una amplia variedad de funciones y herramientas para trabajar con matrices, vectores y estructuras de datos multidimensionales. Con Numpy, puedes realizar operaciones matemáticas complejas de forma rápida y sencilla, lo que la hace ideal para aplicaciones científicas, financieras y estadísticas. Esta librería también es útil para la creación de gráficos y visualizaciones avanzadas. Si estás interesado en aprender a usar Numpy para tu proyecto, ¡estás en el lugar correcto!"
   ]
  },
  {
   "cell_type": "markdown",
   "metadata": {},
   "source": [
    "Importamos numpy. (ya que yo ya lo tenía previamente instalado en mi environment)."
   ]
  },
  {
   "cell_type": "code",
   "execution_count": 2,
   "metadata": {
    "id": "7fJeGWDUsbZD",
    "tags": []
   },
   "outputs": [],
   "source": [
    "# La convención para el uso de NumPy\n",
    "import numpy as np"
   ]
  },
  {
   "cell_type": "code",
   "execution_count": 5,
   "metadata": {
    "id": "0I8ONi8jsbZF",
    "outputId": "64bd6576-9494-4ba9-da7d-0b38156e4ea4",
    "tags": []
   },
   "outputs": [
    {
     "data": {
      "text/plain": [
       "dtype('float64')"
      ]
     },
     "execution_count": 5,
     "metadata": {},
     "output_type": "execute_result"
    }
   ],
   "source": [
    "# Creando un arreglo, a partir de una lista de python\n",
    "lista_python = [0,1,2,3]\n",
    "\n",
    "mi_array = np.array( [0,1.0,2,3,5] , dtype='float' )\n",
    "mi_array.dtype"
   ]
  },
  {
   "cell_type": "code",
   "execution_count": 7,
   "metadata": {
    "id": "HmtduzlSsbZG",
    "outputId": "ce0f89dd-f348-4b47-a087-786ba1ff13d8",
    "tags": []
   },
   "outputs": [
    {
     "data": {
      "text/plain": [
       "array([0, 1, 2, 3, 4, 5, 6, 7, 8, 9])"
      ]
     },
     "execution_count": 7,
     "metadata": {},
     "output_type": "execute_result"
    }
   ],
   "source": [
    "mi_array = np.arange(0,10)\n",
    "mi_array"
   ]
  },
  {
   "cell_type": "code",
   "execution_count": 9,
   "metadata": {
    "id": "kvva8wRYsbZH",
    "outputId": "ccc15443-17f6-453f-a021-5eadb432552f",
    "tags": []
   },
   "outputs": [
    {
     "data": {
      "text/plain": [
       "array([[1., 1., 1.],\n",
       "       [1., 1., 1.],\n",
       "       [1., 1., 1.]])"
      ]
     },
     "execution_count": 9,
     "metadata": {},
     "output_type": "execute_result"
    }
   ],
   "source": [
    "# Usando metodos de creacion de arreglos multidimensionales\n",
    "# ones, zeros, identity, eye\n",
    "mi_array = np.ones( (3,3) )\n",
    "mi_array"
   ]
  },
  {
   "cell_type": "markdown",
   "metadata": {
    "id": "GIDeKaMSsbZH"
   },
   "source": [
    "El resto de los metodos para crear arreglos que ofrece numpy:<br>\n",
    "http://docs.scipy.org/doc/numpy/reference/routines.array-creation.html<br>\n",
    "\n",
    "----"
   ]
  },
  {
   "cell_type": "code",
   "execution_count": 27,
   "metadata": {
    "id": "yHADn5olsbZH",
    "outputId": "13931ef0-375b-42fc-a010-bb8d0a00e61a",
    "tags": []
   },
   "outputs": [
    {
     "name": "stdout",
     "output_type": "stream",
     "text": [
      "Numero de elementos  9\n",
      "Forma dimensiones  (3, 3)\n",
      "Numero dimensiones  2\n",
      "Tipo de dato  float64\n"
     ]
    }
   ],
   "source": [
    "# Que hay dentro del objeto mi_arreglo\n",
    "print ('Numero de elementos ' , mi_array.size)\n",
    "print ('Forma dimensiones ' , mi_array.shape)\n",
    "print ('Numero dimensiones ' , mi_array.ndim)\n",
    "print ('Tipo de dato ' , mi_array.dtype)\n",
    "\n",
    "#dir(mi_array)"
   ]
  },
  {
   "cell_type": "markdown",
   "metadata": {
    "id": "ov9rU13HsbZI"
   },
   "source": [
    "### Visualizando la informacion\n",
    "- Ultimo eje (dimension) se visualiza de izquierda a derecha\n",
    "- Penultimo eje se visualiza de arriba a abajo.\n",
    "- El resto tambien se muestran de arriba a abajo, donde cada bloque es separado del siguiente por una linea vacia."
   ]
  },
  {
   "cell_type": "code",
   "execution_count": 29,
   "metadata": {
    "id": "OvW5pbcVsbZJ",
    "outputId": "eeb2ce00-30be-413a-bb68-21ac46d2b36e",
    "tags": []
   },
   "outputs": [
    {
     "name": "stdout",
     "output_type": "stream",
     "text": [
      "[[ 0  1  2]\n",
      " [ 3  4  5]\n",
      " [ 6  7  8]\n",
      " [ 9 10 11]]\n"
     ]
    }
   ],
   "source": [
    "# arreglo 2D\n",
    "a = np.arange(12)\n",
    "\n",
    "a.resize(4,3)\n",
    "print (a)"
   ]
  },
  {
   "cell_type": "code",
   "execution_count": 31,
   "metadata": {
    "id": "Zj544y54sbZJ",
    "outputId": "2d06dc24-15ae-4b5c-c104-2cca7338632b",
    "tags": []
   },
   "outputs": [
    {
     "name": "stdout",
     "output_type": "stream",
     "text": [
      "[[[ 0  1  2  3]\n",
      "  [ 4  5  6  7]\n",
      "  [ 8  9 10 11]]\n",
      "\n",
      " [[12 13 14 15]\n",
      "  [16 17 18 19]\n",
      "  [20 21 22 23]]]\n"
     ]
    }
   ],
   "source": [
    "# arrreglo 3D\n",
    "c = np.arange(24).reshape(2,3,4)\n",
    "print (c)"
   ]
  },
  {
   "cell_type": "markdown",
   "metadata": {
    "id": "PzLmfNS6sbZK"
   },
   "source": [
    "### Las operaciones basicas\n",
    "Todas las operaciones aritmeticas sobre los arreglos de numpy se hacen elemento a elemento. Se genera un nuevo arreglo y se llena con el resultado"
   ]
  },
  {
   "cell_type": "code",
   "execution_count": 33,
   "metadata": {
    "id": "Q5XL2wjdsbZK",
    "outputId": "62597e74-932a-4234-ce0f-ec3e884ac806",
    "tags": []
   },
   "outputs": [
    {
     "name": "stdout",
     "output_type": "stream",
     "text": [
      "[[0 1]\n",
      " [2 3]]\n",
      "[[2. 2.]\n",
      " [2. 2.]]\n",
      "-\n",
      "[[0. 2.]\n",
      " [4. 6.]]\n"
     ]
    }
   ],
   "source": [
    "a = np.arange(4).reshape(2,2)\n",
    "b = np.ones((2,2))\n",
    "b = b + 1\n",
    "c = a * b\n",
    "\n",
    "\n",
    "print (a)\n",
    "print (b)\n",
    "print ('-')\n",
    "print (c)\n"
   ]
  },
  {
   "cell_type": "code",
   "execution_count": 37,
   "metadata": {
    "id": "hFr9JaWmsbZK",
    "outputId": "157aee1c-7f81-43b8-cdc3-2879d44ec279",
    "tags": []
   },
   "outputs": [
    {
     "name": "stdout",
     "output_type": "stream",
     "text": [
      "[[ 2.  2.]\n",
      " [10. 10.]]\n"
     ]
    }
   ],
   "source": [
    "# El producto de matrices\n",
    "c = np.dot(a,b)\n",
    "print (c)"
   ]
  },
  {
   "cell_type": "markdown",
   "metadata": {
    "id": "Eh2KTfKOsbZK"
   },
   "source": [
    "### \"Broadcasting\"\n",
    "Describe el como se comportan los arreglos de numpy de diferenctes dimensiones durante las operaciones aritmeticas.\n",
    "\n",
    "![alt text](images/np_broadcasting.png \"Ejemplos broadcasting\")"
   ]
  },
  {
   "cell_type": "code",
   "execution_count": 39,
   "metadata": {
    "id": "58ooeWXVsbZL",
    "outputId": "1aeb1277-b99a-403a-c153-f7af9ec16d13",
    "tags": []
   },
   "outputs": [
    {
     "name": "stdout",
     "output_type": "stream",
     "text": [
      "[[ 0  1  2]\n",
      " [ 3  4  5]\n",
      " [ 6  7  8]\n",
      " [ 9 10 11]] - [1. 1. 1.]\n",
      "=\n",
      "[[-1.  0.  1.]\n",
      " [ 2.  3.  4.]\n",
      " [ 5.  6.  7.]\n",
      " [ 8.  9. 10.]]\n"
     ]
    }
   ],
   "source": [
    "# \"Broadcasting\" Operaciones sobre arreglos que no tienen la misma dimension, se repiten en los siguientes bloques\n",
    "# Regla del broadcasting dice que dos dimensiones son compatibles cuando:\n",
    "# - Son iguales en las primeras dimensiones\n",
    "# - Una de ellas es uno.\n",
    "\n",
    "a = np.arange(12).reshape(4,3)\n",
    "b = np.ones((3))\n",
    "\n",
    "print (a, '-', b)\n",
    "print ('=')\n",
    "print (a - b)"
   ]
  },
  {
   "cell_type": "code",
   "execution_count": 41,
   "metadata": {
    "id": "JKrCdSrfsbZL",
    "outputId": "94825ed8-49bb-4c89-aa3e-eec4848d4ae0",
    "tags": []
   },
   "outputs": [
    {
     "name": "stdout",
     "output_type": "stream",
     "text": [
      "x: (4,)\n",
      "xx: (4, 1)\n",
      "[[0 0 0 0]\n",
      " [0 1 2 3]\n",
      " [0 2 4 6]\n",
      " [0 3 6 9]]\n"
     ]
    }
   ],
   "source": [
    "# Otro ejemplo de \"broadcasting\"\n",
    "x = np.arange(4)\n",
    "xx = x.reshape(4,1)\n",
    "\n",
    "\n",
    "print ('x:', x.shape)\n",
    "print ('xx:', xx.shape)\n",
    "print (xx * x)"
   ]
  },
  {
   "cell_type": "code",
   "execution_count": 51,
   "metadata": {
    "id": "jvtE3D83sbZL",
    "outputId": "b569689e-33c6-4f4b-e01b-099973b847bc",
    "tags": []
   },
   "outputs": [
    {
     "name": "stdout",
     "output_type": "stream",
     "text": [
      "y shape :  (3, 3)\n",
      "x shape :  (4,)\n",
      "y :  [[1. 1. 1.]\n",
      " [1. 1. 1.]\n",
      " [1. 1. 1.]]\n",
      "x :  [0 1 2 3]\n"
     ]
    }
   ],
   "source": [
    "y = np.ones((3,3))\n",
    "\n",
    "\n",
    "print (\"y shape : \" , y.shape)\n",
    "print (\"x shape : \" , x.shape)\n",
    "print (\"y : \" , y)\n",
    "print (\"x : \" , x )\n"
   ]
  },
  {
   "cell_type": "code",
   "execution_count": 53,
   "metadata": {
    "id": "3_wLsBv8sbZL",
    "outputId": "b10fced4-c87d-47b0-b940-ea55fa1979f0",
    "tags": []
   },
   "outputs": [
    {
     "ename": "ValueError",
     "evalue": "operands could not be broadcast together with shapes (4,) (3,3) ",
     "output_type": "error",
     "traceback": [
      "\u001b[1;31m---------------------------------------------------------------------------\u001b[0m",
      "\u001b[1;31mValueError\u001b[0m                                Traceback (most recent call last)",
      "Cell \u001b[1;32mIn[53], line 1\u001b[0m\n\u001b[1;32m----> 1\u001b[0m x \u001b[38;5;241m+\u001b[39m y\n",
      "\u001b[1;31mValueError\u001b[0m: operands could not be broadcast together with shapes (4,) (3,3) "
     ]
    }
   ],
   "source": [
    "x + y # Generara un error pues las dimensiones no corresponden."
   ]
  },
  {
   "cell_type": "code",
   "execution_count": 55,
   "metadata": {
    "collapsed": true,
    "id": "E3Ge-7CVsbZM",
    "jupyter": {
     "outputs_hidden": true
    },
    "tags": []
   },
   "outputs": [],
   "source": [
    "y = np.ones((4,4))"
   ]
  },
  {
   "cell_type": "code",
   "execution_count": 57,
   "metadata": {
    "id": "bjvbwlSBsbZM",
    "outputId": "577c48b0-43ff-4c02-8274-2f7a1a04a8df",
    "tags": []
   },
   "outputs": [
    {
     "name": "stdout",
     "output_type": "stream",
     "text": [
      "[[0]\n",
      " [1]\n",
      " [2]\n",
      " [3]]\n",
      "[[1. 1. 1. 1.]\n",
      " [1. 1. 1. 1.]\n",
      " [1. 1. 1. 1.]\n",
      " [1. 1. 1. 1.]]\n"
     ]
    },
    {
     "data": {
      "text/plain": [
       "array([[1., 1., 1., 1.],\n",
       "       [2., 2., 2., 2.],\n",
       "       [3., 3., 3., 3.],\n",
       "       [4., 4., 4., 4.]])"
      ]
     },
     "execution_count": 57,
     "metadata": {},
     "output_type": "execute_result"
    }
   ],
   "source": [
    "print (xx)\n",
    "print (y)\n",
    "xx + y"
   ]
  },
  {
   "cell_type": "markdown",
   "metadata": {
    "id": "nwRA1MpSsbZM"
   },
   "source": [
    "### Metodos ya incluidos en la clase ndarray\n",
    "Muchos metodos ya se encuentran integrados en la clase *ndarray* de NumPy"
   ]
  },
  {
   "cell_type": "code",
   "execution_count": 59,
   "metadata": {
    "id": "mh6_1hAXsbZM",
    "outputId": "70315bde-67b1-40e6-bc61-61a2e7a6abf7",
    "tags": []
   },
   "outputs": [
    {
     "data": {
      "text/plain": [
       "array([[0.2520493 , 0.0695432 , 0.13529933],\n",
       "       [0.36513037, 0.51591585, 0.43721314]])"
      ]
     },
     "execution_count": 59,
     "metadata": {},
     "output_type": "execute_result"
    }
   ],
   "source": [
    "a = np.random.random((2,3))\n",
    "a"
   ]
  },
  {
   "cell_type": "code",
   "execution_count": 65,
   "metadata": {
    "id": "e1r_2Ue0sbZM",
    "outputId": "69f14563-0a3a-49ef-f5a3-89fbf761ef1f",
    "tags": []
   },
   "outputs": [
    {
     "data": {
      "text/plain": [
       "1.7751511752557458"
      ]
     },
     "execution_count": 65,
     "metadata": {},
     "output_type": "execute_result"
    }
   ],
   "source": [
    "a.sum()"
   ]
  },
  {
   "cell_type": "code",
   "execution_count": 73,
   "metadata": {
    "id": "dbWqloh-sbZN",
    "outputId": "2c8a0357-8db3-4178-abce-f018b395f9ec",
    "tags": []
   },
   "outputs": [
    {
     "data": {
      "text/plain": [
       "array([0.0695432 , 0.36513037])"
      ]
     },
     "execution_count": 73,
     "metadata": {},
     "output_type": "execute_result"
    }
   ],
   "source": [
    "a.min(axis=1)"
   ]
  },
  {
   "cell_type": "code",
   "execution_count": 79,
   "metadata": {
    "id": "eD1sCDtUsbZN",
    "outputId": "37fba352-8230-4137-a43a-6ad3da4ba3ae",
    "tags": []
   },
   "outputs": [
    {
     "data": {
      "text/plain": [
       "0.5159158475797583"
      ]
     },
     "execution_count": 79,
     "metadata": {},
     "output_type": "execute_result"
    }
   ],
   "source": [
    "a.max()"
   ]
  },
  {
   "cell_type": "markdown",
   "metadata": {
    "id": "bvxfTX4lsbZN"
   },
   "source": [
    "Por default estas operaciones se hacen sobre todos los elementos del arreglo, salvo que se especifiquen, que solo se desea hacer la operacion sobre algun eje en especifico.\n",
    "\n",
    "![Alt Text](images/axis.png \"Numpy axis order\")"
   ]
  },
  {
   "cell_type": "code",
   "execution_count": 81,
   "metadata": {
    "id": "EXD2ZlDDsbZN",
    "outputId": "423331c9-d1b9-449c-d9cf-ec2c368d0808",
    "tags": []
   },
   "outputs": [
    {
     "data": {
      "text/plain": [
       "array([0.61717967, 0.58545905, 0.57251246])"
      ]
     },
     "execution_count": 81,
     "metadata": {},
     "output_type": "execute_result"
    }
   ],
   "source": [
    "# La suma de cada columna\n",
    "a.sum(axis=0)"
   ]
  },
  {
   "cell_type": "code",
   "execution_count": 83,
   "metadata": {
    "id": "OcXzEsc1sbZN",
    "outputId": "733e789b-ce07-4eee-a684-f9d9c97e1951",
    "tags": []
   },
   "outputs": [
    {
     "data": {
      "text/plain": [
       "array([0.45689183, 1.31825935])"
      ]
     },
     "execution_count": 83,
     "metadata": {},
     "output_type": "execute_result"
    }
   ],
   "source": [
    "# La suma de cada renglon\n",
    "a.sum(axis=1)"
   ]
  },
  {
   "cell_type": "code",
   "execution_count": 85,
   "metadata": {
    "id": "lhjXvopLsbZN",
    "outputId": "e6879547-9f34-4dd5-fcc0-b300797addd7",
    "tags": []
   },
   "outputs": [
    {
     "data": {
      "text/plain": [
       "array([[ 0,  1,  2,  3],\n",
       "       [ 4,  6,  8, 10],\n",
       "       [12, 15, 18, 21]])"
      ]
     },
     "execution_count": 85,
     "metadata": {},
     "output_type": "execute_result"
    }
   ],
   "source": [
    "# La suma aculumativa sobre cada renglon\n",
    "b = np.arange(12).reshape(3,4)\n",
    "b.cumsum(axis=0)"
   ]
  },
  {
   "cell_type": "markdown",
   "metadata": {
    "id": "4zkWkTcjsbZO"
   },
   "source": [
    "### Funciones universales\n",
    "Funciones matematicas que se realizan de elemento a elemento\n",
    "\n",
    "Listado: http://docs.scipy.org/doc/numpy/reference/ufuncs.html#math-operations\n"
   ]
  },
  {
   "cell_type": "code",
   "execution_count": 87,
   "metadata": {
    "id": "fEeA5exDsbZO",
    "outputId": "6daf9b90-24a5-416f-f47a-ec5d9d48bfdc",
    "tags": []
   },
   "outputs": [
    {
     "data": {
      "text/plain": [
       "array([[0.        , 1.        , 1.41421356, 1.73205081],\n",
       "       [2.        , 2.23606798, 2.44948974, 2.64575131],\n",
       "       [2.82842712, 3.        , 3.16227766, 3.31662479]])"
      ]
     },
     "execution_count": 87,
     "metadata": {},
     "output_type": "execute_result"
    }
   ],
   "source": [
    "np.sqrt(b)"
   ]
  },
  {
   "cell_type": "code",
   "execution_count": 89,
   "metadata": {
    "id": "xdUFtMk6sbZO",
    "outputId": "3b293108-58e0-4332-cb95-d9b77cdfe138",
    "tags": []
   },
   "outputs": [
    {
     "data": {
      "text/plain": [
       "array([[ 0.        ,  0.84147098,  0.90929743,  0.14112001],\n",
       "       [-0.7568025 , -0.95892427, -0.2794155 ,  0.6569866 ],\n",
       "       [ 0.98935825,  0.41211849, -0.54402111, -0.99999021]])"
      ]
     },
     "execution_count": 89,
     "metadata": {},
     "output_type": "execute_result"
    }
   ],
   "source": [
    "np.sin(b)"
   ]
  },
  {
   "cell_type": "code",
   "execution_count": 91,
   "metadata": {
    "id": "OElcb5DOsbZO",
    "outputId": "5348ae9e-4312-4054-d1c4-d1709330e223",
    "tags": []
   },
   "outputs": [
    {
     "data": {
      "text/plain": [
       "array([[ 2,  3,  4,  5],\n",
       "       [ 6,  7,  8,  9],\n",
       "       [10, 11, 12, 13]])"
      ]
     },
     "execution_count": 91,
     "metadata": {},
     "output_type": "execute_result"
    }
   ],
   "source": [
    "c = np.array([2,2,2,2])\n",
    "np.add(b,c)"
   ]
  },
  {
   "cell_type": "markdown",
   "metadata": {
    "id": "ef9QSqo6sbZO"
   },
   "source": [
    "### Seleccion de rangos, indexado e iteraciones\n",
    "- Arreglos 1D se pueden acceder por indices, recortar e iterar sobre sus elementos, como una lista de python.\n",
    "- Arreglos 2D, tienen un indice por eje, y estos indices se dan por un tipo de dato **tuple**\n",
    "- Arreglos multidimensionales tienen un indice por cada eje, de igual forma estan dados por un **tuple**"
   ]
  },
  {
   "cell_type": "code",
   "execution_count": 93,
   "metadata": {
    "id": "htUH9CFosbZO",
    "outputId": "cccfe402-5c98-44cd-8d0c-34b7a7818440",
    "tags": []
   },
   "outputs": [
    {
     "data": {
      "text/plain": [
       "array([ 0,  1,  4,  9, 16, 25, 36, 49, 64, 81])"
      ]
     },
     "execution_count": 93,
     "metadata": {},
     "output_type": "execute_result"
    }
   ],
   "source": [
    "a = np.arange(10)**2\n",
    "a"
   ]
  },
  {
   "cell_type": "code",
   "execution_count": 95,
   "metadata": {
    "id": "03RDjotzsbZP",
    "outputId": "fecfa8c9-d183-47c4-af29-3541f072c115",
    "tags": []
   },
   "outputs": [
    {
     "data": {
      "text/plain": [
       "(array([4, 5, 6, 7, 8, 9], dtype=int64),)"
      ]
     },
     "execution_count": 95,
     "metadata": {},
     "output_type": "execute_result"
    }
   ],
   "source": [
    "# Buscar dentro del arreglo, y retornar indices\n",
    "np.where(a > 10)"
   ]
  },
  {
   "cell_type": "code",
   "execution_count": 97,
   "metadata": {
    "id": "3FoG4eYjsbZP",
    "outputId": "575246bb-bf29-476d-96bc-eaac8d9989fd",
    "tags": []
   },
   "outputs": [
    {
     "name": "stdout",
     "output_type": "stream",
     "text": [
      "4\n",
      "[ 4  9 16]\n",
      "[ 0  4 16 36 64]\n",
      "[ 4 16 36]\n"
     ]
    }
   ],
   "source": [
    "print (a[2])\n",
    "\n",
    "print (a[2:5])\n",
    "print (a[0:-1:2])             # Usando un paso de dos indices\n",
    "print (a[np.array([2,4,6])])  # Elementos con indice 2 , 4 y 6\n"
   ]
  },
  {
   "cell_type": "code",
   "execution_count": 99,
   "metadata": {
    "id": "U0vuilXwsbZQ",
    "outputId": "f24fe4bc-f34a-4f4c-d51e-3880c03e87f8",
    "tags": []
   },
   "outputs": [
    {
     "data": {
      "text/plain": [
       "array([25, 64,  1])"
      ]
     },
     "execution_count": 99,
     "metadata": {},
     "output_type": "execute_result"
    }
   ],
   "source": [
    "# Usando los mismos arreglos ndarray para referirnos a indices de otro arreglo.\n",
    "indices = np.array([5,8,1])\n",
    "a[indices]"
   ]
  },
  {
   "cell_type": "code",
   "execution_count": 101,
   "metadata": {
    "id": "DypDySLksbZQ",
    "outputId": "7af5096a-f7ba-4b01-9c28-228ad4fbed24",
    "tags": []
   },
   "outputs": [
    {
     "data": {
      "text/plain": [
       "array([[ 0,  1,  2,  3,  4],\n",
       "       [ 5,  6,  7,  8,  9],\n",
       "       [10, 11, 12, 13, 14]])"
      ]
     },
     "execution_count": 101,
     "metadata": {},
     "output_type": "execute_result"
    }
   ],
   "source": [
    "#\n",
    "# Visualizando la seleccion de rangos\n",
    "\n",
    "arr = np.arange(15).reshape(3,5)\n",
    "arr"
   ]
  },
  {
   "cell_type": "markdown",
   "metadata": {
    "id": "iPIaJIf7sbZZ"
   },
   "source": [
    "![Alt Text](images/slicing1.png \"Rangos\")"
   ]
  },
  {
   "cell_type": "code",
   "execution_count": 103,
   "metadata": {
    "id": "Nb7a6dCpsbZZ",
    "outputId": "1fa03f80-90af-4214-9f1d-70d6309476c6",
    "tags": []
   },
   "outputs": [
    {
     "data": {
      "text/plain": [
       "array([[0, 1, 2, 3, 4],\n",
       "       [5, 6, 7, 8, 9]])"
      ]
     },
     "execution_count": 103,
     "metadata": {},
     "output_type": "execute_result"
    }
   ],
   "source": [
    "arr[0:2,:]"
   ]
  },
  {
   "cell_type": "code",
   "execution_count": 105,
   "metadata": {
    "id": "8L9Xsqg8sbZZ",
    "outputId": "5161a4ab-05c7-417d-afeb-057245fc7620",
    "scrolled": true,
    "tags": []
   },
   "outputs": [
    {
     "data": {
      "text/plain": [
       "array([11, 12, 13, 14])"
      ]
     },
     "execution_count": 105,
     "metadata": {},
     "output_type": "execute_result"
    }
   ],
   "source": [
    "arr[2,1:]"
   ]
  },
  {
   "cell_type": "code",
   "execution_count": null,
   "metadata": {
    "id": "O3XHGsUCsbZa"
   },
   "outputs": [],
   "source": []
  },
  {
   "cell_type": "code",
   "execution_count": 107,
   "metadata": {
    "id": "sVW74ZHAsbZa",
    "outputId": "ccd2cbdf-5bbe-4f8b-c2e6-f14b22487c85",
    "tags": []
   },
   "outputs": [
    {
     "data": {
      "text/plain": [
       "array([   0,    1,    4,    9, -999, -999,   36,   49,   64,   81])"
      ]
     },
     "execution_count": 107,
     "metadata": {},
     "output_type": "execute_result"
    }
   ],
   "source": [
    "# Modificando datos sobre una region del arreglo.\n",
    "a[4:6] = -999\n",
    "a"
   ]
  },
  {
   "cell_type": "code",
   "execution_count": 109,
   "metadata": {
    "id": "IdDEMIJ1sbZa",
    "outputId": "6aae5616-8246-4bff-b103-aa4a10def60b",
    "tags": []
   },
   "outputs": [
    {
     "name": "stdout",
     "output_type": "stream",
     "text": [
      "0 ,\n",
      "1 ,\n",
      "4 ,\n",
      "9 ,\n",
      "-999 ,\n",
      "-999 ,\n",
      "36 ,\n",
      "49 ,\n",
      "64 ,\n",
      "81 ,\n"
     ]
    }
   ],
   "source": [
    "# Iterar sobre sus elementos.\n",
    "for el in a:\n",
    "    print (el, ',')"
   ]
  },
  {
   "cell_type": "markdown",
   "metadata": {
    "id": "BrCK6gxNsbZa"
   },
   "source": [
    "### Aunque alerta, para que quisieramos iterar sobre sus elementos si tenemos funciones universales y podemos vectorizar la mayoria de las operaciones.."
   ]
  },
  {
   "cell_type": "code",
   "execution_count": 111,
   "metadata": {
    "id": "2rFIvCyNsbZa",
    "outputId": "7b270c29-dc53-4a36-ac7f-994f6daadcac",
    "tags": []
   },
   "outputs": [
    {
     "data": {
      "text/plain": [
       "array([[ 0.,  1.,  2.,  3.],\n",
       "       [10., 11., 12., 13.],\n",
       "       [20., 21., 22., 23.],\n",
       "       [30., 31., 32., 33.],\n",
       "       [40., 41., 42., 43.]])"
      ]
     },
     "execution_count": 111,
     "metadata": {},
     "output_type": "execute_result"
    }
   ],
   "source": [
    "# Arreglos multidimensionales\n",
    "\n",
    "# Equivalente a\n",
    "# def func(x,y):\n",
    "#   return 10 * x+y\n",
    "func = lambda x,y : 10*x+y         # palabra reservada lambda produce una funcion inline\n",
    "\n",
    "b = np.fromfunction(func,(5,4))\n",
    "b"
   ]
  },
  {
   "cell_type": "code",
   "execution_count": 113,
   "metadata": {
    "id": "87pgVZaisbZa",
    "outputId": "e64d9f3c-38b0-4cbc-8865-fd0b22d18a1f",
    "tags": []
   },
   "outputs": [
    {
     "data": {
      "text/plain": [
       "array([10., 11., 12., 13.])"
      ]
     },
     "execution_count": 113,
     "metadata": {},
     "output_type": "execute_result"
    }
   ],
   "source": [
    "# Segundo renglon\n",
    "b[1,:]"
   ]
  },
  {
   "cell_type": "code",
   "execution_count": 115,
   "metadata": {
    "id": "AuoRtvhKsbZb",
    "outputId": "c86b785f-09f7-4a61-ab74-48f627b24545",
    "tags": []
   },
   "outputs": [
    {
     "data": {
      "text/plain": [
       "array([ 3., 13., 23., 33., 43.])"
      ]
     },
     "execution_count": 115,
     "metadata": {},
     "output_type": "execute_result"
    }
   ],
   "source": [
    "# Ultima columna\n",
    "b[:,-1]"
   ]
  },
  {
   "cell_type": "code",
   "execution_count": 117,
   "metadata": {
    "id": "ahUMuS5gsbZb",
    "outputId": "f3324420-fe0d-48b2-9ee0-6b17d49c5162",
    "tags": []
   },
   "outputs": [
    {
     "name": "stdout",
     "output_type": "stream",
     "text": [
      "[0. 1. 2. 3.] ,\n",
      "[10. 11. 12. 13.] ,\n",
      "[20. 21. 22. 23.] ,\n",
      "[30. 31. 32. 33.] ,\n",
      "[40. 41. 42. 43.] ,\n"
     ]
    }
   ],
   "source": [
    "# Iterando sobre arreglos multidimensionales.\n",
    "for renglon in b:\n",
    "    print (renglon , ',')"
   ]
  },
  {
   "cell_type": "code",
   "execution_count": 119,
   "metadata": {
    "id": "NmQZ0iFEsbZb",
    "outputId": "b92cb783-eb14-4a59-b2c4-e90ba2f3d56d",
    "tags": []
   },
   "outputs": [
    {
     "name": "stdout",
     "output_type": "stream",
     "text": [
      "0.0 ,1.0 ,2.0 ,3.0 ,10.0 ,11.0 ,12.0 ,13.0 ,20.0 ,21.0 ,22.0 ,23.0 ,30.0 ,31.0 ,32.0 ,33.0 ,40.0 ,41.0 ,42.0 ,43.0 ,"
     ]
    }
   ],
   "source": [
    "# El atributo flat entrega el iterable de todos los elementos del arreglo\n",
    "for el in b.flat:\n",
    "    print (el, ',', end=\"\")"
   ]
  },
  {
   "cell_type": "markdown",
   "metadata": {
    "id": "XNMb0UtWsbZb"
   },
   "source": [
    "### Ordenando, buscando y contando el arreglo.\n",
    "Metodos para la busqueda y ordenado de datos en arreglos de numpy<br>\n",
    "http://docs.scipy.org/doc/numpy/reference/routines.sort.html"
   ]
  },
  {
   "cell_type": "code",
   "execution_count": 121,
   "metadata": {
    "id": "InXUdgPysbZb",
    "outputId": "25c27647-2345-4af2-828f-9f0dced10c2a",
    "tags": []
   },
   "outputs": [
    {
     "data": {
      "text/plain": [
       "array([[ 0,  1,  2],\n",
       "       [ 3,  4,  5],\n",
       "       [ 6,  7,  8],\n",
       "       [ 9, 10, 11]])"
      ]
     },
     "execution_count": 121,
     "metadata": {},
     "output_type": "execute_result"
    }
   ],
   "source": [
    "a = np.arange(12).reshape(4,3)\n",
    "a"
   ]
  },
  {
   "cell_type": "code",
   "execution_count": 123,
   "metadata": {
    "id": "nbJFCdPHsbZc",
    "outputId": "e950e588-8069-4725-bb39-3ea4d736e492",
    "tags": []
   },
   "outputs": [
    {
     "data": {
      "text/plain": [
       "array([3, 4, 5, 6, 7, 8])"
      ]
     },
     "execution_count": 123,
     "metadata": {},
     "output_type": "execute_result"
    }
   ],
   "source": [
    "# Elementos del arreglo, con alguna condicion\n",
    "a[(a>2) & (a<9)]"
   ]
  },
  {
   "cell_type": "code",
   "execution_count": 125,
   "metadata": {
    "id": "FrJp5Tu7sbZc",
    "outputId": "f181a6c5-c592-43a9-e6cb-81ccfebb40b5",
    "tags": []
   },
   "outputs": [
    {
     "data": {
      "text/plain": [
       "array([[False, False, False],\n",
       "       [False, False,  True],\n",
       "       [ True,  True,  True],\n",
       "       [ True, False, False]])"
      ]
     },
     "execution_count": 125,
     "metadata": {},
     "output_type": "execute_result"
    }
   ],
   "source": [
    "# Los elementos que cumplan con alguna condición\n",
    "(a > 4) & (a<10)"
   ]
  },
  {
   "cell_type": "code",
   "execution_count": 127,
   "metadata": {
    "id": "3gLiEjN-sbZc",
    "outputId": "e6360221-f7c1-427a-d116-fcc9b06c90f8",
    "tags": []
   },
   "outputs": [
    {
     "data": {
      "text/plain": [
       "array([[999, 999, 999],\n",
       "       [999, 999, 999],\n",
       "       [  6,   7,   8],\n",
       "       [  9,  10,  11]])"
      ]
     },
     "execution_count": 127,
     "metadata": {},
     "output_type": "execute_result"
    }
   ],
   "source": [
    "# Numpy where(cond, x, y), si se cumple la condicion, recupera de \"x\", de otra forma, de \"y\"\n",
    "np.where(a >5 , a , 999)"
   ]
  },
  {
   "cell_type": "code",
   "execution_count": 129,
   "metadata": {
    "id": "EM0vvU7JsbZc",
    "outputId": "ded30471-8b47-4122-dea2-cd17d84142da",
    "tags": []
   },
   "outputs": [
    {
     "data": {
      "text/plain": [
       "array([[1, 0],\n",
       "       [1, 1],\n",
       "       [1, 2],\n",
       "       [2, 0],\n",
       "       [2, 1],\n",
       "       [2, 2]], dtype=int64)"
      ]
     },
     "execution_count": 129,
     "metadata": {},
     "output_type": "execute_result"
    }
   ],
   "source": [
    "# Indices de elementos que cumplan la siguiente condicion\n",
    "np.argwhere((a>2) & (a<9))"
   ]
  },
  {
   "cell_type": "code",
   "execution_count": 131,
   "metadata": {
    "id": "02oP-pdosbZc",
    "outputId": "33ab15c6-c4cd-4722-fd76-8823c93d9af0",
    "tags": []
   },
   "outputs": [
    {
     "name": "stdout",
     "output_type": "stream",
     "text": [
      "0\n",
      "11\n"
     ]
    }
   ],
   "source": [
    "# Indices con minimo y maximo\n",
    "print (np.argmin(a))\n",
    "print (np.argmax(a))"
   ]
  },
  {
   "cell_type": "markdown",
   "metadata": {
    "id": "h_IufvF8sbZd"
   },
   "source": [
    "### Manipulando la forma de un arreglo"
   ]
  },
  {
   "cell_type": "code",
   "execution_count": 138,
   "metadata": {
    "id": "CUNru0S8sbZd",
    "outputId": "d78e5895-db02-4542-dfa6-036b06404a67",
    "tags": []
   },
   "outputs": [
    {
     "data": {
      "text/plain": [
       "array([[7., 0., 7., 8.],\n",
       "       [9., 8., 3., 8.],\n",
       "       [3., 7., 3., 4.]])"
      ]
     },
     "execution_count": 138,
     "metadata": {},
     "output_type": "execute_result"
    }
   ],
   "source": [
    "a = np.floor( np.random.random((3,4)) * 10 )\n",
    "a"
   ]
  },
  {
   "cell_type": "code",
   "execution_count": 140,
   "metadata": {
    "id": "NEwthtr8sbZd",
    "outputId": "ebb2d0df-8b8d-468d-98a6-5368be2a2724",
    "tags": []
   },
   "outputs": [
    {
     "data": {
      "text/plain": [
       "(3, 4)"
      ]
     },
     "execution_count": 140,
     "metadata": {},
     "output_type": "execute_result"
    }
   ],
   "source": [
    "a.shape"
   ]
  },
  {
   "cell_type": "code",
   "execution_count": 142,
   "metadata": {
    "id": "BuTmm33xsbZd",
    "outputId": "07411170-f906-44da-89c5-7981501cca71",
    "tags": []
   },
   "outputs": [
    {
     "data": {
      "text/plain": [
       "array([7., 0., 7., 8., 9., 8., 3., 8., 3., 7., 3., 4.])"
      ]
     },
     "execution_count": 142,
     "metadata": {},
     "output_type": "execute_result"
    }
   ],
   "source": [
    "# Aplanamos el arreglo, (Regresa referencias al arreglo original!)\n",
    "a.ravel()"
   ]
  },
  {
   "cell_type": "code",
   "execution_count": 144,
   "metadata": {
    "id": "kkNZdSQ1sbZd",
    "outputId": "30c4627c-1578-4255-abf0-e1bc3fa37e4e",
    "tags": []
   },
   "outputs": [
    {
     "data": {
      "text/plain": [
       "array([[7., 9., 3.],\n",
       "       [0., 8., 7.],\n",
       "       [7., 3., 3.],\n",
       "       [8., 8., 4.]])"
      ]
     },
     "execution_count": 144,
     "metadata": {},
     "output_type": "execute_result"
    }
   ],
   "source": [
    "# arreglo a transpuesto\n",
    "a.transpose() # O tambien a.T"
   ]
  },
  {
   "cell_type": "code",
   "execution_count": 146,
   "metadata": {
    "id": "50glvJhSsbZe",
    "outputId": "3a833970-62a8-4366-b5bc-30e2ced20c1e",
    "tags": []
   },
   "outputs": [
    {
     "data": {
      "text/plain": [
       "array([[7., 0.],\n",
       "       [7., 8.],\n",
       "       [9., 8.],\n",
       "       [3., 8.],\n",
       "       [3., 7.],\n",
       "       [3., 4.]])"
      ]
     },
     "execution_count": 146,
     "metadata": {},
     "output_type": "execute_result"
    }
   ],
   "source": [
    "# Modificamos la forma del arreglo con resize\n",
    "a.resize(6,2)\n",
    "a"
   ]
  },
  {
   "cell_type": "code",
   "execution_count": 148,
   "metadata": {
    "id": "YmfT9sy8sbZe",
    "outputId": "7550af2b-6d51-441b-ac15-565976a73b69",
    "tags": []
   },
   "outputs": [
    {
     "data": {
      "text/plain": [
       "array([[7., 0., 7., 8., 9., 8.],\n",
       "       [3., 8., 3., 7., 3., 4.]])"
      ]
     },
     "execution_count": 148,
     "metadata": {},
     "output_type": "execute_result"
    }
   ],
   "source": [
    "# reshape entrega un nuevo arreglo\n",
    "# Al incluir -1 en los parametros, dejamos que numpy calcule el tamaño adecuado\n",
    "a.reshape(-1,6)"
   ]
  },
  {
   "cell_type": "markdown",
   "metadata": {
    "id": "oLMtzwO9sbZe"
   },
   "source": [
    "### Concatenando arreglos"
   ]
  },
  {
   "cell_type": "code",
   "execution_count": 150,
   "metadata": {
    "id": "KvG-ZMb4sbZf",
    "tags": []
   },
   "outputs": [],
   "source": [
    "a = np.floor( 10 * np.random.random((2,2)) )\n",
    "b = np.floor( 10 * np.random.random((2,2)) )"
   ]
  },
  {
   "cell_type": "code",
   "execution_count": 152,
   "metadata": {
    "id": "oB3qdtAlsbZf",
    "outputId": "7c2cef4e-ce05-4a44-e25d-a3142c1d6a40",
    "tags": []
   },
   "outputs": [
    {
     "data": {
      "text/plain": [
       "array([[5., 8.],\n",
       "       [9., 6.]])"
      ]
     },
     "execution_count": 152,
     "metadata": {},
     "output_type": "execute_result"
    }
   ],
   "source": [
    "a"
   ]
  },
  {
   "cell_type": "code",
   "execution_count": 154,
   "metadata": {
    "id": "8qAK5MifsbZf",
    "outputId": "c9e9b6c7-e018-4aac-c720-dc2f55b225a3",
    "tags": []
   },
   "outputs": [
    {
     "data": {
      "text/plain": [
       "array([[9., 8.],\n",
       "       [2., 9.]])"
      ]
     },
     "execution_count": 154,
     "metadata": {},
     "output_type": "execute_result"
    }
   ],
   "source": [
    "b"
   ]
  },
  {
   "cell_type": "code",
   "execution_count": 156,
   "metadata": {
    "id": "YjEjXV1HsbZf",
    "outputId": "eb35f933-86bb-4219-9a34-5f89b810e21d",
    "tags": []
   },
   "outputs": [
    {
     "data": {
      "text/plain": [
       "array([[5., 8.],\n",
       "       [9., 6.],\n",
       "       [9., 8.],\n",
       "       [2., 9.]])"
      ]
     },
     "execution_count": 156,
     "metadata": {},
     "output_type": "execute_result"
    }
   ],
   "source": [
    "# Apilando los arreglos verticalemente\n",
    "np.vstack( (a,b) )"
   ]
  },
  {
   "cell_type": "code",
   "execution_count": 158,
   "metadata": {
    "id": "dy8xrs6IsbZg",
    "outputId": "64c50c36-cd80-4403-f95d-93082e4930fc",
    "tags": []
   },
   "outputs": [
    {
     "data": {
      "text/plain": [
       "array([[5., 8., 9., 8.],\n",
       "       [9., 6., 2., 9.]])"
      ]
     },
     "execution_count": 158,
     "metadata": {},
     "output_type": "execute_result"
    }
   ],
   "source": [
    "# Apilando horizontalmente\n",
    "np.hstack((a,b))"
   ]
  },
  {
   "cell_type": "code",
   "execution_count": 160,
   "metadata": {
    "id": "cwBXnytAsbZh",
    "outputId": "63f37179-bc4e-4b31-bdc1-9547879a08d5",
    "tags": []
   },
   "outputs": [
    {
     "data": {
      "text/plain": [
       "array([1, 2, 3, 4, 5, 6])"
      ]
     },
     "execution_count": 160,
     "metadata": {},
     "output_type": "execute_result"
    }
   ],
   "source": [
    "# Un arreglo de 1D\n",
    "c = np.array([1,2,3,4,5,6])\n",
    "c"
   ]
  },
  {
   "cell_type": "code",
   "execution_count": 162,
   "metadata": {
    "id": "WeIegB23sbZh",
    "outputId": "cfdf7bdb-1131-42a3-e8ca-38bcf27c2d57",
    "tags": []
   },
   "outputs": [
    {
     "data": {
      "text/plain": [
       "array([[1],\n",
       "       [2],\n",
       "       [3],\n",
       "       [4],\n",
       "       [5],\n",
       "       [6]])"
      ]
     },
     "execution_count": 162,
     "metadata": {},
     "output_type": "execute_result"
    }
   ],
   "source": [
    "# Al agregar np.newaxis, creamos un arreglo 2D con los datos ordenados en la columna\n",
    "d = c[ :, np.newaxis]\n",
    "d"
   ]
  },
  {
   "cell_type": "code",
   "execution_count": 164,
   "metadata": {
    "id": "OlLaQPNVsbZh",
    "outputId": "79db2d93-6dc5-458a-985a-498cb129d99c",
    "tags": []
   },
   "outputs": [
    {
     "data": {
      "text/plain": [
       "array([[1],\n",
       "       [2],\n",
       "       [3],\n",
       "       [4],\n",
       "       [5],\n",
       "       [6],\n",
       "       [1],\n",
       "       [2],\n",
       "       [3],\n",
       "       [4],\n",
       "       [5],\n",
       "       [6]])"
      ]
     },
     "execution_count": 164,
     "metadata": {},
     "output_type": "execute_result"
    }
   ],
   "source": [
    "np.vstack((d,d))"
   ]
  },
  {
   "cell_type": "code",
   "execution_count": 166,
   "metadata": {
    "id": "wkuvWUSRsbZh",
    "outputId": "d3d26033-dbe7-4dfa-c98b-6ebcd55ec2b2",
    "tags": []
   },
   "outputs": [
    {
     "data": {
      "text/plain": [
       "array([[1, 1, 1],\n",
       "       [2, 2, 2],\n",
       "       [3, 3, 3],\n",
       "       [4, 4, 4],\n",
       "       [5, 5, 5],\n",
       "       [6, 6, 6]])"
      ]
     },
     "execution_count": 166,
     "metadata": {},
     "output_type": "execute_result"
    }
   ],
   "source": [
    "np.hstack((d,d,d))"
   ]
  },
  {
   "cell_type": "markdown",
   "metadata": {
    "id": "p8LmKf56sbZi"
   },
   "source": [
    "### Copia de datos y vistas\n",
    "Operando arreglos multidimensionales, en ocasiones los datos se copian a un nuevo arreglo y en otras no, para evitar confusiones veremos los casos."
   ]
  },
  {
   "cell_type": "code",
   "execution_count": 168,
   "metadata": {
    "id": "1mP1Inm1sbZi",
    "outputId": "1154c956-069b-4d4d-8c57-2515c1ad8394",
    "tags": []
   },
   "outputs": [
    {
     "data": {
      "text/plain": [
       "array([ 0,  1,  2,  3,  4,  5,  6,  7,  8,  9, 10, 11])"
      ]
     },
     "execution_count": 168,
     "metadata": {},
     "output_type": "execute_result"
    }
   ],
   "source": [
    "a = np.arange(12)\n",
    "a"
   ]
  },
  {
   "cell_type": "code",
   "execution_count": 170,
   "metadata": {
    "id": "XfzActVFsbZi",
    "outputId": "146a86e0-64df-49f0-88b7-efe0bce865c6",
    "tags": []
   },
   "outputs": [
    {
     "data": {
      "text/plain": [
       "True"
      ]
     },
     "execution_count": 170,
     "metadata": {},
     "output_type": "execute_result"
    }
   ],
   "source": [
    "# El operador = no hace copia de los datos, solo pasa la referencia al\n",
    "# puntero donde esta la informacion\n",
    "b = a\n",
    "b is a"
   ]
  },
  {
   "cell_type": "code",
   "execution_count": 172,
   "metadata": {
    "id": "S_EKH5DosbZi",
    "outputId": "35323ff8-c751-4316-e139-fba33efe7c21",
    "tags": []
   },
   "outputs": [
    {
     "data": {
      "text/plain": [
       "(3, 4)"
      ]
     },
     "execution_count": 172,
     "metadata": {},
     "output_type": "execute_result"
    }
   ],
   "source": [
    "# Los cambios realizados en b, tambien afectan al arreglo a, esto sucede igual\n",
    "# al pasar parametros en una funcion\n",
    "b.resize(3,4)\n",
    "a.shape"
   ]
  },
  {
   "cell_type": "markdown",
   "metadata": {
    "id": "o1Np4D6tsbZj"
   },
   "source": [
    "#### Vistas o copia ligera\n",
    "La diferencia con las vistas, es que dos objetos ndarray que observan a los mismos datos. <br>\n",
    "Al hacer un recorte de un arreglo, estamos creado una vista."
   ]
  },
  {
   "cell_type": "code",
   "execution_count": 174,
   "metadata": {
    "id": "XnbmoTBXsbZj",
    "outputId": "e2f771ea-40e0-4a9d-bdf9-e21d894d6506",
    "tags": []
   },
   "outputs": [
    {
     "data": {
      "text/plain": [
       "False"
      ]
     },
     "execution_count": 174,
     "metadata": {},
     "output_type": "execute_result"
    }
   ],
   "source": [
    "c = a.view()\n",
    "c is a"
   ]
  },
  {
   "cell_type": "code",
   "execution_count": 176,
   "metadata": {
    "id": "fi5dL9kTsbZj",
    "outputId": "2348483b-55d2-493c-bb60-a1e58256480c",
    "tags": []
   },
   "outputs": [
    {
     "data": {
      "text/plain": [
       "array([ 0,  1,  2,  3,  4,  5,  6,  7,  8,  9, 10, 11])"
      ]
     },
     "execution_count": 176,
     "metadata": {},
     "output_type": "execute_result"
    }
   ],
   "source": [
    "# Cambiamos la forma de los datos en c, sin que se afecte en a\n",
    "c.resize((12))\n",
    "c"
   ]
  },
  {
   "cell_type": "code",
   "execution_count": 178,
   "metadata": {
    "id": "zN-FTl79sbZj",
    "outputId": "7bd34d5d-217e-4403-ecce-f01477f7df18",
    "tags": []
   },
   "outputs": [
    {
     "data": {
      "text/plain": [
       "array([[ 0,  1,  2,  3],\n",
       "       [ 4,  5,  6,  7],\n",
       "       [ 8,  9, 10, 11]])"
      ]
     },
     "execution_count": 178,
     "metadata": {},
     "output_type": "execute_result"
    }
   ],
   "source": [
    "a"
   ]
  },
  {
   "cell_type": "code",
   "execution_count": 180,
   "metadata": {
    "id": "263xSlyasbZk",
    "outputId": "68d69b46-0108-43c9-c67b-94651c21739b",
    "tags": []
   },
   "outputs": [
    {
     "data": {
      "text/plain": [
       "array([-9999, -9999, -9999, -9999,     4,     5,     6,     7,     8,\n",
       "           9,    10,    11])"
      ]
     },
     "execution_count": 180,
     "metadata": {},
     "output_type": "execute_result"
    }
   ],
   "source": [
    "# Pero al cambiar un dato en el arreglo a ...\n",
    "a[0] = -9999\n",
    "c"
   ]
  },
  {
   "cell_type": "markdown",
   "metadata": {
    "id": "d24WMwTlsbZk"
   },
   "source": [
    "#### Copia real de datos\n",
    "El metodo copy() hace una copia completa del arreglo y de sus datos."
   ]
  },
  {
   "cell_type": "code",
   "execution_count": 182,
   "metadata": {
    "id": "_C5VCY0_sbZk",
    "outputId": "1b1cfffc-44db-4aeb-b7a2-36d28cb29df3",
    "tags": []
   },
   "outputs": [
    {
     "data": {
      "text/plain": [
       "False"
      ]
     },
     "execution_count": 182,
     "metadata": {},
     "output_type": "execute_result"
    }
   ],
   "source": [
    "d = a.copy()\n",
    "d is a"
   ]
  },
  {
   "cell_type": "code",
   "execution_count": 186,
   "metadata": {
    "id": "BQyuGlbksbZk",
    "outputId": "88fb71d6-f671-4655-889a-3e9b0c8e82cc",
    "tags": []
   },
   "outputs": [
    {
     "data": {
      "text/plain": [
       "array([[-9999, -9999, -9999, -9999],\n",
       "       [    4,     5,     6,     7],\n",
       "       [    8,     9,    10,    11]])"
      ]
     },
     "execution_count": 186,
     "metadata": {},
     "output_type": "execute_result"
    }
   ],
   "source": [
    "d[0,0] = 5555\n",
    "a"
   ]
  },
  {
   "cell_type": "code",
   "execution_count": 188,
   "metadata": {
    "id": "s2eBle7MsbZk",
    "outputId": "0c0a90df-2a9b-4f0b-afb6-afe9e26e540b",
    "tags": []
   },
   "outputs": [
    {
     "data": {
      "text/plain": [
       "array([[ 5555, -9999, -9999, -9999],\n",
       "       [    4,     5,     6,     7],\n",
       "       [    8,     9,    10,    11]])"
      ]
     },
     "execution_count": 188,
     "metadata": {},
     "output_type": "execute_result"
    }
   ],
   "source": [
    "d"
   ]
  },
  {
   "cell_type": "markdown",
   "metadata": {
    "id": "Paisp8YMsbZl"
   },
   "source": [
    "### Arreglos con mascara\n",
    "Para manejar arreglos de datos que puedan contener datos invalidos, por lo que es conveniente usar un arreglo con mascara para no incluir esos datos en las operaciones.<br>\n",
    "Documentacion completa: http://docs.scipy.org/doc/numpy/reference/maskedarray.generic.html"
   ]
  },
  {
   "cell_type": "code",
   "execution_count": 190,
   "metadata": {
    "id": "NAffA9cFsbZl",
    "tags": []
   },
   "outputs": [],
   "source": [
    "# Importar el modulo para arreglos con mascara\n",
    "import numpy.ma as ma"
   ]
  },
  {
   "cell_type": "code",
   "execution_count": 192,
   "metadata": {
    "id": "okSGWCP6sbZm",
    "outputId": "646556bc-dd47-4d77-8f29-905af9e00da2",
    "tags": []
   },
   "outputs": [
    {
     "data": {
      "text/plain": [
       "masked_array(data=[1, 2, --, 4, 5, 6, --, 8, 9],\n",
       "             mask=[False, False,  True, False, False, False,  True, False,\n",
       "                   False],\n",
       "       fill_value=999999)"
      ]
     },
     "execution_count": 192,
     "metadata": {},
     "output_type": "execute_result"
    }
   ],
   "source": [
    "x = np.array([1,2,-1,4,5,6,-1,8,9])\n",
    "mx = ma.masked_array(x , mask=[0,0,1,0,0,0,1,0,0])\n",
    "mx"
   ]
  },
  {
   "cell_type": "code",
   "execution_count": 194,
   "metadata": {
    "id": "q8Sk6By9sbZm",
    "outputId": "8a808c5e-2f57-4278-f98f-106e60d74851",
    "tags": []
   },
   "outputs": [
    {
     "data": {
      "text/plain": [
       "5.0"
      ]
     },
     "execution_count": 194,
     "metadata": {},
     "output_type": "execute_result"
    }
   ],
   "source": [
    "# En todas las operaciones sobre el arreglo no se contaran los datos enmascarados.\n",
    "mx.mean()"
   ]
  },
  {
   "cell_type": "code",
   "execution_count": 196,
   "metadata": {
    "id": "tkJRaLwHsbZn",
    "outputId": "94554b80-d8b9-4bef-c06e-625580ec899a",
    "tags": []
   },
   "outputs": [
    {
     "data": {
      "text/plain": [
       "masked_array(data=[1, 2, --, 4, 5, 6, --, 8, 9],\n",
       "             mask=[False, False,  True, False, False, False,  True, False,\n",
       "                   False],\n",
       "       fill_value=999999)"
      ]
     },
     "execution_count": 196,
     "metadata": {},
     "output_type": "execute_result"
    }
   ],
   "source": [
    "# Es posible crear una mascara con alguna condicion sobre el arreglo.\n",
    "nmx = ma.masked_array(x , mask=(x <0))\n",
    "nmx"
   ]
  },
  {
   "cell_type": "code",
   "execution_count": 198,
   "metadata": {
    "id": "4yL2roJvsbZn",
    "outputId": "4d54efc7-a4de-441b-cb53-7c5298e9d9fb",
    "tags": []
   },
   "outputs": [
    {
     "data": {
      "text/plain": [
       "array([False, False,  True, False, False, False,  True, False, False])"
      ]
     },
     "execution_count": 198,
     "metadata": {},
     "output_type": "execute_result"
    }
   ],
   "source": [
    "# Accediendo a la mascara\n",
    "mx.mask"
   ]
  },
  {
   "cell_type": "code",
   "execution_count": 200,
   "metadata": {
    "id": "yK2A0RPosbZo",
    "outputId": "a219bac9-84dc-42f1-b8d7-cffeadf2f223",
    "tags": []
   },
   "outputs": [
    {
     "data": {
      "text/plain": [
       "array([1, 2, 4, 5, 6, 8, 9])"
      ]
     },
     "execution_count": 200,
     "metadata": {},
     "output_type": "execute_result"
    }
   ],
   "source": [
    "# Recuperar los datos validos\n",
    "mx.compressed()"
   ]
  }
 ],
 "metadata": {
  "anaconda-cloud": {},
  "colab": {
   "provenance": []
  },
  "kernelspec": {
   "display_name": "Python 3 (ipykernel)",
   "language": "python",
   "name": "python3"
  },
  "language_info": {
   "codemirror_mode": {
    "name": "ipython",
    "version": 3
   },
   "file_extension": ".py",
   "mimetype": "text/x-python",
   "name": "python",
   "nbconvert_exporter": "python",
   "pygments_lexer": "ipython3",
   "version": "3.11.7"
  },
  "vscode": {
   "interpreter": {
    "hash": "4d1e9685241859556e110a9762602881454d4d48d6248d124be558de354edd4e"
   }
  }
 },
 "nbformat": 4,
 "nbformat_minor": 4
}

{
 "cells": [
  {
   "cell_type": "code",
   "execution_count": 1,
   "id": "c810ebb2-727b-4d96-848c-5d7e87798f16",
   "metadata": {
    "tags": []
   },
   "outputs": [],
   "source": [
    "#pip install tweepy"
   ]
  },
  {
   "cell_type": "code",
   "execution_count": 2,
   "id": "82e6ba5a-f108-4837-b069-aa860e2270f5",
   "metadata": {
    "tags": []
   },
   "outputs": [],
   "source": [
    "#pip install requests beautifulsoup4"
   ]
  },
  {
   "cell_type": "code",
   "execution_count": 3,
   "id": "8d79fb2c-6ba0-458a-bd92-8a9efe337a39",
   "metadata": {
    "tags": []
   },
   "outputs": [],
   "source": [
    "#pip install pysentimiento==0.3.2"
   ]
  },
  {
   "cell_type": "markdown",
   "id": "7cf36394-821d-408e-9a6b-b0f52d650d34",
   "metadata": {
    "tags": []
   },
   "source": [
    "## Webscraping by BeautifulSoul"
   ]
  },
  {
   "cell_type": "code",
   "execution_count": 1,
   "id": "01031ee8-84c9-4324-a5a6-e1ceab153928",
   "metadata": {
    "tags": []
   },
   "outputs": [
    {
     "name": "stdout",
     "output_type": "stream",
     "text": [
      "Reddit - Dive into anything\n"
     ]
    }
   ],
   "source": [
    "import requests\n",
    "from bs4 import BeautifulSoup\n",
    "\n",
    "req = requests.get(\"https://www.reddit.com/search/?q=amlo&type=link&cId=421f03ec-ad71-4f3d-b166-befa7badadab&iId=91643a24-5f6e-4fd7-9a26-f24d8531b2a9\")\n",
    "soup = BeautifulSoup(req.text)\n",
    "\n",
    "title = soup.select(\"title\")[0].getText()\n",
    "print(title)"
   ]
  },
  {
   "cell_type": "markdown",
   "id": "9304f66f-e245-41c3-93d4-ec339725058e",
   "metadata": {},
   "source": [
    "### Webscraping the the link webpage, fisrt test:"
   ]
  },
  {
   "cell_type": "code",
   "execution_count": 3,
   "id": "61d7b291-9969-4ecb-b0d7-6094838af42f",
   "metadata": {},
   "outputs": [
    {
     "name": "stdout",
     "output_type": "stream",
     "text": [
      "Context data: {\"action_info\":{\"page_type\":\"search_results\",\"pane_name\":\"posts\"},\"search\":{\"conversation_id\":\"421f03ec-ad71-4f3d-b166-befa7badadab\",\"filters\":\"{}\",\"impression_id\":\"91643a24-5f6e-4fd7-9a26-f24d8531b2a9\",\"nsfw\":false,\"origin_page_type\":\"search_results\",\"query\":\"amlo\",\"query_id\":\"5738918b-59e9-4fa8-a907-8ce74160c78d\",\"structure_type\":\"search\"},\"user_preferences\":{\"hide_nsfw\":true}}\n",
      "Context data: {\"search\":{\"sort\":\"relevance\"}}\n",
      "Context data: {\"search\":{\"sort\":\"hot\"}}\n",
      "Context data: {\"search\":{\"sort\":\"top\"}}\n",
      "Context data: {\"search\":{\"sort\":\"new\"}}\n",
      "Context data: {\"search\":{\"sort\":\"comments\"}}\n",
      "Context data: {\"search\":{\"range\":\"all\"}}\n",
      "Context data: {\"search\":{\"range\":\"year\"}}\n",
      "Context data: {\"search\":{\"range\":\"month\"}}\n",
      "Context data: {\"search\":{\"range\":\"week\"}}\n",
      "Context data: {\"search\":{\"range\":\"day\"}}\n",
      "Context data: {\"search\":{\"range\":\"hour\"}}\n",
      "Context data: {\"post\":{\"archived\":false,\"author_id\":\"t2_bskwhqwju\",\"created_timestamp\":1711395628559,\"domain\":\"i.redd.it\",\"id\":\"t3_1bnmssb\",\"nsfw\":false,\"number_comments\":100,\"promoted\":false,\"score\":1909,\"spoiler\":false,\"title\":\"How is AMLO so cool?\",\"type\":\"image\",\"url\":\"/r/LateStageCapitalism/comments/1bnmssb/how_is_amlo_so_cool/\",\"subreddit_id\":\"t5_39qgx\",\"subreddit_name\":\"LateStageCapitalism\"},\"action_info\":{\"position\":0},\"subreddit\":{\"id\":\"t5_39qgx\",\"name\":\"LateStageCapitalism\",\"nsfw\":false,\"quarantined\":false}}\n",
      "Context data: {\"search\":{\"origin_element\":\"post\"}}\n",
      "Context data: {\"search\":{\"origin_element\":\"post_community\"}}\n",
      "Context data: {\"search\":{\"origin_element\":\"post_thumbnail\"}}\n",
      "Context data: {\"post\":{\"archived\":false,\"author_id\":\"t2_3a9ofmo7\",\"created_timestamp\":1691876090579,\"domain\":\"self.asklatinamerica\",\"id\":\"t3_15pgb2e\",\"nsfw\":false,\"number_comments\":77,\"promoted\":false,\"score\":40,\"spoiler\":false,\"title\":\"Why is AMLO so popular?\",\"type\":\"text\",\"url\":\"/r/asklatinamerica/comments/15pgb2e/why_is_amlo_so_popular/\",\"subreddit_id\":\"t5_fda8k\",\"subreddit_name\":\"asklatinamerica\"},\"action_info\":{\"position\":1},\"subreddit\":{\"id\":\"t5_fda8k\",\"name\":\"asklatinamerica\",\"nsfw\":false,\"quarantined\":false}}\n",
      "Context data: {\"search\":{\"origin_element\":\"post\"}}\n",
      "Context data: {\"search\":{\"origin_element\":\"post_community\"}}\n",
      "Context data: {\"post\":{\"archived\":false,\"author_id\":\"t2_6yoijtxo\",\"created_timestamp\":1708351857461,\"domain\":\"self.mexico\",\"id\":\"t3_1auo6qs\",\"nsfw\":false,\"number_comments\":370,\"promoted\":false,\"score\":97,\"spoiler\":false,\"title\":\"Entonces no toda la gente ama a AMLO ?\",\"type\":\"text\",\"url\":\"/r/mexico/comments/1auo6qs/entonces_no_toda_la_gente_ama_a_amlo/\",\"subreddit_id\":\"t5_2qhv7\",\"subreddit_name\":\"mexico\"},\"action_info\":{\"position\":2},\"subreddit\":{\"id\":\"t5_2qhv7\",\"name\":\"mexico\",\"nsfw\":false,\"quarantined\":false}}\n",
      "Context data: {\"search\":{\"origin_element\":\"post\"}}\n",
      "Context data: {\"search\":{\"origin_element\":\"post_community\"}}\n",
      "Context data: {\"post\":{\"archived\":false,\"author_id\":\"t2_fnmlv\",\"created_timestamp\":1709603319041,\"domain\":\"self.AskALiberal\",\"id\":\"t3_1b6t05v\",\"nsfw\":false,\"number_comments\":18,\"promoted\":false,\"score\":2,\"spoiler\":false,\"title\":\"What are your thoughts on Mexico's president AMLO?\",\"type\":\"text\",\"url\":\"/r/AskALiberal/comments/1b6t05v/what_are_your_thoughts_on_mexicos_president_amlo/\",\"subreddit_id\":\"t5_2ukxe\",\"subreddit_name\":\"AskALiberal\"},\"action_info\":{\"position\":3},\"subreddit\":{\"id\":\"t5_2ukxe\",\"name\":\"AskALiberal\",\"nsfw\":false,\"quarantined\":false}}\n",
      "Context data: {\"search\":{\"origin_element\":\"post\"}}\n",
      "Context data: {\"search\":{\"origin_element\":\"post_community\"}}\n",
      "Context data: {\"post\":{\"archived\":true,\"author_id\":\"t2_bdj46yvl\",\"created_timestamp\":1643117311745,\"domain\":\"v.redd.it\",\"id\":\"t3_scdqyq\",\"nsfw\":false,\"number_comments\":340,\"promoted\":false,\"score\":2121,\"spoiler\":false,\"title\":\"Pregunta incomoda a AMLO .\",\"type\":\"video\",\"url\":\"/r/mexico/comments/scdqyq/pregunta_incomoda_a_amlo/\",\"subreddit_id\":\"t5_2qhv7\",\"subreddit_name\":\"mexico\"},\"action_info\":{\"position\":4},\"subreddit\":{\"id\":\"t5_2qhv7\",\"name\":\"mexico\",\"nsfw\":false,\"quarantined\":false}}\n",
      "Context data: {\"search\":{\"origin_element\":\"post\"}}\n",
      "Context data: {\"search\":{\"origin_element\":\"post_community\"}}\n",
      "Context data: {\"search\":{\"origin_element\":\"post_thumbnail\"}}\n",
      "Context data: {\"post\":{\"archived\":false,\"author_id\":\"t2_7bflll9c\",\"created_timestamp\":1711343756222,\"domain\":\"i.redd.it\",\"id\":\"t3_1bn5uzv\",\"nsfw\":false,\"number_comments\":142,\"promoted\":false,\"score\":237,\"spoiler\":false,\"title\":\"AMLO en 60 Minutes.\",\"type\":\"image\",\"url\":\"/r/mexico/comments/1bn5uzv/amlo_en_60_minutes/\",\"subreddit_id\":\"t5_2qhv7\",\"subreddit_name\":\"mexico\"},\"action_info\":{\"position\":5},\"subreddit\":{\"id\":\"t5_2qhv7\",\"name\":\"mexico\",\"nsfw\":false,\"quarantined\":false}}\n",
      "Context data: {\"search\":{\"origin_element\":\"post\"}}\n",
      "Context data: {\"search\":{\"origin_element\":\"post_community\"}}\n",
      "Context data: {\"search\":{\"origin_element\":\"post_thumbnail\"}}\n",
      "Context data: {\"post\":{\"archived\":true,\"author_id\":\"t2_l6g3sqbj\",\"created_timestamp\":1698637330533,\"domain\":\"self.mexico\",\"id\":\"t3_17jkm72\",\"nsfw\":false,\"number_comments\":58,\"promoted\":false,\"score\":0,\"spoiler\":false,\"title\":\"¿Por que el hate a AMLO?\",\"type\":\"text\",\"url\":\"/r/mexico/comments/17jkm72/por_que_el_hate_a_amlo/\",\"subreddit_id\":\"t5_2qhv7\",\"subreddit_name\":\"mexico\"},\"action_info\":{\"position\":6},\"subreddit\":{\"id\":\"t5_2qhv7\",\"name\":\"mexico\",\"nsfw\":false,\"quarantined\":false}}\n",
      "Context data: {\"search\":{\"origin_element\":\"post\"}}\n",
      "Context data: {\"search\":{\"origin_element\":\"post_community\"}}\n",
      "Context data: {\"post\":{\"archived\":false,\"author_id\":\"t2_6a09i1rz\",\"created_timestamp\":1711216555318,\"domain\":\"self.asklatinamerica\",\"id\":\"t3_1blycjf\",\"nsfw\":false,\"number_comments\":60,\"promoted\":false,\"score\":37,\"spoiler\":false,\"title\":\"What do you think of AMLO saying that he won't fight the cartel \\\"on US orders\\\" ?\",\"type\":\"multi_media\",\"url\":\"/r/asklatinamerica/comments/1blycjf/what_do_you_think_of_amlo_saying_that_he_wont/\",\"subreddit_id\":\"t5_fda8k\",\"subreddit_name\":\"asklatinamerica\"},\"action_info\":{\"position\":7},\"subreddit\":{\"id\":\"t5_fda8k\",\"name\":\"asklatinamerica\",\"nsfw\":false,\"quarantined\":false}}\n",
      "Context data: {\"search\":{\"origin_element\":\"post\"}}\n",
      "Context data: {\"search\":{\"origin_element\":\"post_community\"}}\n",
      "Context data: {\"post\":{\"archived\":false,\"author_id\":\"t2_kqhzwvk97\",\"created_timestamp\":1710980589319,\"domain\":\"self.mexico\",\"id\":\"t3_1bjt5lm\",\"nsfw\":false,\"number_comments\":125,\"promoted\":false,\"score\":5,\"spoiler\":false,\"title\":\"Como fue realmente el gobierno de AMLO \",\"type\":\"text\",\"url\":\"/r/mexico/comments/1bjt5lm/como_fue_realmente_el_gobierno_de_amlo/\",\"subreddit_id\":\"t5_2qhv7\",\"subreddit_name\":\"mexico\"},\"action_info\":{\"position\":8},\"subreddit\":{\"id\":\"t5_2qhv7\",\"name\":\"mexico\",\"nsfw\":false,\"quarantined\":false}}\n",
      "Context data: {\"search\":{\"origin_element\":\"post\"}}\n",
      "Context data: {\"search\":{\"origin_element\":\"post_community\"}}\n",
      "Context data: {\"post\":{\"archived\":false,\"author_id\":\"t2_uio1kny4\",\"created_timestamp\":1697816820603,\"domain\":\"self.asklatinamerica\",\"id\":\"t3_17cedb4\",\"nsfw\":false,\"number_comments\":24,\"promoted\":false,\"score\":3,\"spoiler\":false,\"title\":\"Is true that AMLO has made no plans to track and capture El Mencho because he is a pacifist?\",\"type\":\"text\",\"url\":\"/r/asklatinamerica/comments/17cedb4/is_true_that_amlo_has_made_no_plans_to_track_and/\",\"subreddit_id\":\"t5_fda8k\",\"subreddit_name\":\"asklatinamerica\"},\"action_info\":{\"position\":9},\"subreddit\":{\"id\":\"t5_fda8k\",\"name\":\"asklatinamerica\",\"nsfw\":false,\"quarantined\":false}}\n",
      "Context data: {\"search\":{\"origin_element\":\"post\"}}\n",
      "Context data: {\"search\":{\"origin_element\":\"post_community\"}}\n",
      "Context data: {\"post\":{\"archived\":false,\"author_id\":\"t2_bskwhqwju\",\"created_timestamp\":1710899154476,\"domain\":\"i.redd.it\",\"id\":\"t3_1bj1xn1\",\"nsfw\":false,\"number_comments\":20,\"promoted\":false,\"score\":141,\"spoiler\":false,\"title\":\"I knew AMLO was popular, but not this popular.\",\"type\":\"image\",\"url\":\"/r/TheDeprogram/comments/1bj1xn1/i_knew_amlo_was_popular_but_not_this_popular/\",\"subreddit_id\":\"t5_5d6ir2\",\"subreddit_name\":\"TheDeprogram\"},\"action_info\":{\"position\":10},\"subreddit\":{\"id\":\"t5_5d6ir2\",\"name\":\"TheDeprogram\",\"nsfw\":false,\"quarantined\":false}}\n",
      "Context data: {\"search\":{\"origin_element\":\"post\"}}\n",
      "Context data: {\"search\":{\"origin_element\":\"post_community\"}}\n",
      "Context data: {\"search\":{\"origin_element\":\"post_thumbnail\"}}\n",
      "Context data: {\"post\":{\"archived\":true,\"author_id\":\"t2_md6j0rjo\",\"created_timestamp\":1655506495885,\"domain\":\"self.mexico\",\"id\":\"t3_vesdfx\",\"nsfw\":false,\"number_comments\":302,\"promoted\":false,\"score\":272,\"spoiler\":false,\"title\":\"Do Mexicans actually like AMLO? Because from the outside looking in, it seems like he’s a bit crazy with authoritarian tendencies, kind of like Trump. It appears that he attacks the media and any groups that criticize him rather than address the criticisms.\",\"type\":\"text\",\"url\":\"/r/mexico/comments/vesdfx/do_mexicans_actually_like_amlo_because_from_the/\",\"subreddit_id\":\"t5_2qhv7\",\"subreddit_name\":\"mexico\"},\"action_info\":{\"position\":11},\"subreddit\":{\"id\":\"t5_2qhv7\",\"name\":\"mexico\",\"nsfw\":false,\"quarantined\":false}}\n",
      "Context data: {\"search\":{\"origin_element\":\"post\"}}\n",
      "Context data: {\"search\":{\"origin_element\":\"post_community\"}}\n",
      "Context data: {\"post\":{\"archived\":false,\"author_id\":\"t2_jg2ijqm\",\"created_timestamp\":1677506124503,\"domain\":\"v.redd.it\",\"id\":\"t3_11dcew9\",\"nsfw\":false,\"number_comments\":1668,\"promoted\":false,\"score\":19244,\"spoiler\":false,\"title\":\"Mexico's half a million march against AMLO\",\"type\":\"video\",\"url\":\"/r/nextfuckinglevel/comments/11dcew9/mexicos_half_a_million_march_against_amlo/\",\"subreddit_id\":\"t5_m0bnr\",\"subreddit_name\":\"nextfuckinglevel\"},\"action_info\":{\"position\":12},\"subreddit\":{\"id\":\"t5_m0bnr\",\"name\":\"nextfuckinglevel\",\"nsfw\":false,\"quarantined\":false}}\n",
      "Context data: {\"search\":{\"origin_element\":\"post\"}}\n",
      "Context data: {\"search\":{\"origin_element\":\"post_community\"}}\n",
      "Context data: {\"search\":{\"origin_element\":\"post_thumbnail\"}}\n",
      "Context data: {\"post\":{\"archived\":true,\"author_id\":\"t2_v1he3qk\",\"created_timestamp\":1604107509323,\"domain\":\"self.mexico\",\"id\":\"t3_jl9m4f\",\"nsfw\":false,\"number_comments\":58,\"promoted\":false,\"score\":39,\"spoiler\":false,\"title\":\"In the USA, Amlo is constantly described as a socialist. How true is this?\",\"type\":\"text\",\"url\":\"/r/mexico/comments/jl9m4f/in_the_usa_amlo_is_constantly_described_as_a/\",\"subreddit_id\":\"t5_2qhv7\",\"subreddit_name\":\"mexico\"},\"action_info\":{\"position\":13},\"subreddit\":{\"id\":\"t5_2qhv7\",\"name\":\"mexico\",\"nsfw\":false,\"quarantined\":false}}\n",
      "Context data: {\"search\":{\"origin_element\":\"post\"}}\n",
      "Context data: {\"search\":{\"origin_element\":\"post_community\"}}\n",
      "Context data: {\"post\":{\"archived\":false,\"author_id\":\"t2_l2wc0be3l\",\"created_timestamp\":1713648694893,\"domain\":\"i.redd.it\",\"id\":\"t3_1c913je\",\"nsfw\":false,\"number_comments\":235,\"promoted\":false,\"score\":523,\"spoiler\":false,\"title\":\"Amlo es el anticristo\",\"type\":\"image\",\"url\":\"/r/mexico/comments/1c913je/amlo_es_el_anticristo/\",\"subreddit_id\":\"t5_2qhv7\",\"subreddit_name\":\"mexico\"},\"action_info\":{\"position\":14},\"subreddit\":{\"id\":\"t5_2qhv7\",\"name\":\"mexico\",\"nsfw\":false,\"quarantined\":false}}\n",
      "Context data: {\"search\":{\"origin_element\":\"post\"}}\n",
      "Context data: {\"search\":{\"origin_element\":\"post_community\"}}\n",
      "Context data: {\"search\":{\"origin_element\":\"post_thumbnail\"}}\n",
      "Context data: {\"post\":{\"archived\":false,\"author_id\":\"t2_0\",\"created_timestamp\":1605915882063,\"domain\":\"self.asklatinamerica\",\"id\":\"t3_jy0aq4\",\"nsfw\":false,\"number_comments\":37,\"promoted\":false,\"score\":6,\"spoiler\":false,\"title\":\"Mexican Redditors, is AMLO a left-wing or a right-wing president?\",\"type\":\"text\",\"url\":\"/r/asklatinamerica/comments/jy0aq4/mexican_redditors_is_amlo_a_leftwing_or_a/\",\"subreddit_id\":\"t5_fda8k\",\"subreddit_name\":\"asklatinamerica\"},\"action_info\":{\"position\":15},\"subreddit\":{\"id\":\"t5_fda8k\",\"name\":\"asklatinamerica\",\"nsfw\":false,\"quarantined\":false}}\n",
      "Context data: {\"search\":{\"origin_element\":\"post\"}}\n",
      "Context data: {\"search\":{\"origin_element\":\"post_community\"}}\n",
      "Context data: {\"post\":{\"archived\":true,\"author_id\":\"t2_1lkfoxwa\",\"created_timestamp\":1530494661305,\"domain\":\"theguardian.com\",\"id\":\"t3_8ver9u\",\"nsfw\":false,\"number_comments\":3517,\"promoted\":false,\"score\":25526,\"spoiler\":false,\"title\":\"Mexico election: leftist Amlo set for historic landslide victory\",\"type\":\"link\",\"url\":\"/r/worldnews/comments/8ver9u/mexico_election_leftist_amlo_set_for_historic/\",\"subreddit_id\":\"t5_2qh13\",\"subreddit_name\":\"worldnews\"},\"action_info\":{\"position\":16},\"subreddit\":{\"id\":\"t5_2qh13\",\"name\":\"worldnews\",\"nsfw\":false,\"quarantined\":false}}\n",
      "Context data: {\"search\":{\"origin_element\":\"post\"}}\n",
      "Context data: {\"search\":{\"origin_element\":\"post_community\"}}\n",
      "Context data: {\"search\":{\"origin_element\":\"post_thumbnail\"}}\n",
      "Context data: {\"post\":{\"archived\":false,\"author_id\":\"t2_bsvgy78m\",\"created_timestamp\":1710505445355,\"domain\":\"self.mexico\",\"id\":\"t3_1bfcpo9\",\"nsfw\":false,\"number_comments\":815,\"promoted\":false,\"score\":391,\"spoiler\":false,\"title\":\"¿Este sexenio fue el peor de todos con el presidente AMLO?\",\"type\":\"text\",\"url\":\"/r/mexico/comments/1bfcpo9/este_sexenio_fue_el_peor_de_todos_con_el/\",\"subreddit_id\":\"t5_2qhv7\",\"subreddit_name\":\"mexico\"},\"action_info\":{\"position\":17},\"subreddit\":{\"id\":\"t5_2qhv7\",\"name\":\"mexico\",\"nsfw\":false,\"quarantined\":false}}\n",
      "Context data: {\"search\":{\"origin_element\":\"post\"}}\n",
      "Context data: {\"search\":{\"origin_element\":\"post_community\"}}\n",
      "Context data: {\"post\":{\"archived\":true,\"author_id\":\"t2_8yt5b4b4e\",\"created_timestamp\":1695842461352,\"domain\":\"v.redd.it\",\"id\":\"t3_16ttcq3\",\"nsfw\":false,\"number_comments\":220,\"promoted\":false,\"score\":887,\"spoiler\":false,\"title\":\"Amlo tiene otros datos\",\"type\":\"video\",\"url\":\"/r/mexico/comments/16ttcq3/amlo_tiene_otros_datos/\",\"subreddit_id\":\"t5_2qhv7\",\"subreddit_name\":\"mexico\"},\"action_info\":{\"position\":18},\"subreddit\":{\"id\":\"t5_2qhv7\",\"name\":\"mexico\",\"nsfw\":false,\"quarantined\":false}}\n",
      "Context data: {\"search\":{\"origin_element\":\"post\"}}\n",
      "Context data: {\"search\":{\"origin_element\":\"post_community\"}}\n",
      "Context data: {\"search\":{\"origin_element\":\"post_thumbnail\"}}\n",
      "Context data: {\"post\":{\"archived\":true,\"author_id\":\"t2_8que87r4\",\"created_timestamp\":1606886626984,\"domain\":\"self.mexico\",\"id\":\"t3_k532ob\",\"nsfw\":false,\"number_comments\":91,\"promoted\":false,\"score\":0,\"spoiler\":false,\"title\":\"Why do you guys hate Amlo Manuel Lopez Obrador?\",\"type\":\"text\",\"url\":\"/r/mexico/comments/k532ob/why_do_you_guys_hate_amlo_manuel_lopez_obrador/\",\"subreddit_id\":\"t5_2qhv7\",\"subreddit_name\":\"mexico\"},\"action_info\":{\"position\":19},\"subreddit\":{\"id\":\"t5_2qhv7\",\"name\":\"mexico\",\"nsfw\":false,\"quarantined\":false}}\n",
      "Context data: {\"search\":{\"origin_element\":\"post\"}}\n",
      "Context data: {\"search\":{\"origin_element\":\"post_community\"}}\n",
      "Context data: {\"post\":{\"archived\":false,\"author_id\":\"t2_7spmh383\",\"created_timestamp\":1712381631645,\"domain\":\"reddit.com\",\"id\":\"t3_1bx3ui1\",\"nsfw\":false,\"number_comments\":518,\"promoted\":false,\"score\":848,\"spoiler\":false,\"title\":\"AMLO rompe relaciones con Ecuador por la violación a la Embajada\",\"type\":\"gallery\",\"url\":\"/r/mexico/comments/1bx3ui1/amlo_rompe_relaciones_con_ecuador_por_la/\",\"subreddit_id\":\"t5_2qhv7\",\"subreddit_name\":\"mexico\"},\"action_info\":{\"position\":20},\"subreddit\":{\"id\":\"t5_2qhv7\",\"name\":\"mexico\",\"nsfw\":false,\"quarantined\":false}}\n",
      "Context data: {\"search\":{\"origin_element\":\"post\"}}\n",
      "Context data: {\"search\":{\"origin_element\":\"post_community\"}}\n",
      "Context data: {\"search\":{\"origin_element\":\"post_thumbnail\"}}\n",
      "Context data: {\"post\":{\"archived\":false,\"author_id\":\"t2_khvv9c9r\",\"created_timestamp\":1663026100655,\"domain\":\"self.asklatinamerica\",\"id\":\"t3_xcrvoj\",\"nsfw\":false,\"number_comments\":37,\"promoted\":false,\"score\":7,\"spoiler\":false,\"title\":\"What's your opinion on AMLO?\",\"type\":\"text\",\"url\":\"/r/asklatinamerica/comments/xcrvoj/whats_your_opinion_on_amlo/\",\"subreddit_id\":\"t5_fda8k\",\"subreddit_name\":\"asklatinamerica\"},\"action_info\":{\"position\":21},\"subreddit\":{\"id\":\"t5_fda8k\",\"name\":\"asklatinamerica\",\"nsfw\":false,\"quarantined\":false}}\n",
      "Context data: {\"search\":{\"origin_element\":\"post\"}}\n",
      "Context data: {\"search\":{\"origin_element\":\"post_community\"}}\n",
      "Context data: {\"post\":{\"archived\":false,\"author_id\":\"t2_bskwhqwju\",\"created_timestamp\":1711395655250,\"domain\":\"i.redd.it\",\"id\":\"t3_1bnmt75\",\"nsfw\":false,\"number_comments\":91,\"promoted\":false,\"score\":851,\"spoiler\":false,\"title\":\"How is AMLO so cool?\",\"type\":\"image\",\"url\":\"/r/MarxistCulture/comments/1bnmt75/how_is_amlo_so_cool/\",\"subreddit_id\":\"t5_57byt6\",\"subreddit_name\":\"MarxistCulture\"},\"action_info\":{\"position\":22},\"subreddit\":{\"id\":\"t5_57byt6\",\"name\":\"MarxistCulture\",\"nsfw\":false,\"quarantined\":false}}\n",
      "Context data: {\"search\":{\"origin_element\":\"post\"}}\n",
      "Context data: {\"search\":{\"origin_element\":\"post_community\"}}\n",
      "Context data: {\"search\":{\"origin_element\":\"post_thumbnail\"}}\n",
      "Context data: {\"post\":{\"archived\":false,\"author_id\":\"t2_6h21c8su\",\"created_timestamp\":1646263394368,\"domain\":\"self.OutOfTheLoop\",\"id\":\"t3_t5d67l\",\"nsfw\":false,\"number_comments\":14,\"promoted\":false,\"score\":26,\"spoiler\":false,\"title\":\"What's going on with how Mexican redditors went from pro-AMLO to against?\",\"type\":\"multi_media\",\"url\":\"/r/OutOfTheLoop/comments/t5d67l/whats_going_on_with_how_mexican_redditors_went/\",\"subreddit_id\":\"t5_2xinb\",\"subreddit_name\":\"OutOfTheLoop\"},\"action_info\":{\"position\":23},\"subreddit\":{\"id\":\"t5_2xinb\",\"name\":\"OutOfTheLoop\",\"nsfw\":false,\"quarantined\":false}}\n",
      "Context data: {\"search\":{\"origin_element\":\"post\"}}\n",
      "Context data: {\"search\":{\"origin_element\":\"post_community\"}}\n",
      "Context data: {\"post\":{\"archived\":true,\"author_id\":\"t2_7b0yevv5\",\"created_timestamp\":1635095056814,\"domain\":\"i.redd.it\",\"id\":\"t3_qewae6\",\"nsfw\":false,\"number_comments\":129,\"promoted\":false,\"score\":2465,\"spoiler\":false,\"title\":\"Evil amlo\",\"type\":\"image\",\"url\":\"/r/mexico/comments/qewae6/evil_amlo/\",\"subreddit_id\":\"t5_2qhv7\",\"subreddit_name\":\"mexico\"},\"action_info\":{\"position\":24},\"subreddit\":{\"id\":\"t5_2qhv7\",\"name\":\"mexico\",\"nsfw\":false,\"quarantined\":false}}\n",
      "Context data: {\"search\":{\"origin_element\":\"post\"}}\n",
      "Context data: {\"search\":{\"origin_element\":\"post_community\"}}\n",
      "Context data: {\"search\":{\"origin_element\":\"post_thumbnail\"}}\n",
      "Context data: {\"subreddit\":{\"id\":\"t5_4w9h3u\",\"name\":\"AMLOcriticandoAMLO\",\"nsfw\":false,\"quarantined\":false},\"action_info\":{\"position\":0}}\n",
      "Context data: {\"subreddit\":{\"id\":\"t5_4w9h3u\",\"name\":\"AMLOcriticandoAMLO\",\"nsfw\":false,\"quarantined\":false},\"action_info\":{\"position\":0}}\n",
      "Context data: {\"subreddit\":{\"id\":\"t5_2qhv7\",\"name\":\"mexico\",\"nsfw\":false,\"quarantined\":false},\"action_info\":{\"position\":1}}\n",
      "Context data: {\"subreddit\":{\"id\":\"t5_2qhv7\",\"name\":\"mexico\",\"nsfw\":false,\"quarantined\":false},\"action_info\":{\"position\":1}}\n",
      "Context data: {\"subreddit\":{\"id\":\"t5_wofp3\",\"name\":\"POLACA\",\"nsfw\":false,\"quarantined\":false},\"action_info\":{\"position\":2}}\n",
      "Context data: {\"subreddit\":{\"id\":\"t5_wofp3\",\"name\":\"POLACA\",\"nsfw\":false,\"quarantined\":false},\"action_info\":{\"position\":2}}\n",
      "Context data: {\"subreddit\":{\"id\":\"t5_89s7kp\",\"name\":\"AMLoRHaters\",\"nsfw\":false,\"quarantined\":false},\"action_info\":{\"position\":3}}\n",
      "Context data: {\"subreddit\":{\"id\":\"t5_89s7kp\",\"name\":\"AMLoRHaters\",\"nsfw\":false,\"quarantined\":false},\"action_info\":{\"position\":3}}\n",
      "Context data: {\"subreddit\":{\"id\":\"t5_jtc74\",\"name\":\"amlocriticizesamlo\",\"nsfw\":false,\"quarantined\":false},\"action_info\":{\"position\":4}}\n",
      "Context data: {\"subreddit\":{\"id\":\"t5_jtc74\",\"name\":\"amlocriticizesamlo\",\"nsfw\":false,\"quarantined\":false},\"action_info\":{\"position\":4}}\n",
      "Context data: {\"action_info\":{\"position\":0},\"profile\":{\"id\":\"t5_1yxwgp\",\"name\":\"AMLO\",\"nsfw\":false}}\n",
      "Context data: {\"action_info\":{\"position\":0},\"profile\":{\"id\":\"t5_1yxwgp\",\"name\":\"AMLO\",\"nsfw\":false}}\n",
      "Context data: {\"action_info\":{\"position\":1},\"profile\":{\"id\":\"t5_aynfvk\",\"name\":\"AmLostInSyria\",\"nsfw\":false}}\n",
      "Context data: {\"action_info\":{\"position\":1},\"profile\":{\"id\":\"t5_aynfvk\",\"name\":\"AmLostInSyria\",\"nsfw\":false}}\n",
      "Context data: {\"action_info\":{\"position\":2},\"profile\":{\"id\":\"t5_c1pif\",\"name\":\"amlozek\",\"nsfw\":false}}\n",
      "Context data: {\"action_info\":{\"position\":2},\"profile\":{\"id\":\"t5_c1pif\",\"name\":\"amlozek\",\"nsfw\":false}}\n",
      "Context data: {\"action_info\":{\"position\":3},\"profile\":{\"id\":\"t5_30ddgt\",\"name\":\"amlost_bred\",\"nsfw\":false}}\n",
      "Context data: {\"action_info\":{\"position\":3},\"profile\":{\"id\":\"t5_30ddgt\",\"name\":\"amlost_bred\",\"nsfw\":false}}\n",
      "Context data: {\"action_info\":{\"position\":4},\"profile\":{\"id\":\"t5_3qelza\",\"name\":\"bot_olini\",\"nsfw\":false}}\n",
      "Context data: {\"action_info\":{\"position\":4},\"profile\":{\"id\":\"t5_3qelza\",\"name\":\"bot_olini\",\"nsfw\":false}}\n"
     ]
    }
   ],
   "source": [
    "import requests\n",
    "from bs4 import BeautifulSoup\n",
    "import json\n",
    "\n",
    "# Define the URL of the Reddit search page\n",
    "url = \"https://www.reddit.com/search/?q=amlo&type=link&cId=421f03ec-ad71-4f3d-b166-befa7badadab&iId=91643a24-5f6e-4fd7-9a26-f24d8531b2a9\"\n",
    "\n",
    "# Send a GET request to the URL\n",
    "response = requests.get(url)\n",
    "\n",
    "# Parse the HTML content using BeautifulSoup\n",
    "soup = BeautifulSoup(response.text, 'html.parser')\n",
    "\n",
    "# Find all elements with the 'data-faceplate-tracking-context' attribute\n",
    "elements_with_context = soup.find_all(lambda tag: tag.has_attr('data-faceplate-tracking-context'))\n",
    "\n",
    "# Extract post titles from the attribute value\n",
    "for element in elements_with_context:\n",
    "    context_data_str = element['data-faceplate-tracking-context']\n",
    "    print(\"Context data:\", context_data_str)"
   ]
  },
  {
   "cell_type": "markdown",
   "id": "8a82bc3b-9023-4404-b3fc-c4d703009aa4",
   "metadata": {},
   "source": [
    "#### Webscraping the post related to AMLO in Reddit:"
   ]
  },
  {
   "cell_type": "code",
   "execution_count": 5,
   "id": "bf52ca53-9f49-487a-9282-2e35fd5ca4d7",
   "metadata": {
    "tags": []
   },
   "outputs": [
    {
     "name": "stdout",
     "output_type": "stream",
     "text": [
      "How is AMLO so cool?\n",
      "Why is AMLO so popular?\n",
      "Entonces no toda la gente ama a AMLO ?\n",
      "What are your thoughts on Mexico's president AMLO?\n",
      "Pregunta incomoda a AMLO .\n",
      "AMLO en 60 Minutes.\n",
      "¿Por que el hate a AMLO?\n",
      "What do you think of AMLO saying that he won't fight the cartel \"on US orders\" ?\n",
      "Como fue realmente el gobierno de AMLO \n",
      "Is true that AMLO has made no plans to track and capture El Mencho because he is a pacifist?\n",
      "I knew AMLO was popular, but not this popular.\n",
      "Do Mexicans actually like AMLO? Because from the outside looking in, it seems like he’s a bit crazy with authoritarian tendencies, kind of like Trump. It appears that he attacks the media and any groups that criticize him rather than address the criticisms.\n",
      "Mexico's half a million march against AMLO\n",
      "In the USA, Amlo is constantly described as a socialist. How true is this?\n",
      "Amlo es el anticristo\n",
      "Mexican Redditors, is AMLO a left-wing or a right-wing president?\n",
      "Mexico election: leftist Amlo set for historic landslide victory\n",
      "¿Este sexenio fue el peor de todos con el presidente AMLO?\n",
      "Amlo tiene otros datos\n",
      "Why do you guys hate Amlo Manuel Lopez Obrador?\n",
      "AMLO rompe relaciones con Ecuador por la violación a la Embajada\n",
      "What's your opinion on AMLO?\n",
      "How is AMLO so cool?\n",
      "What's going on with how Mexican redditors went from pro-AMLO to against?\n",
      "Evil amlo\n"
     ]
    }
   ],
   "source": [
    "import requests\n",
    "from bs4 import BeautifulSoup\n",
    "import json\n",
    "\n",
    "# Define the URL of the Reddit search page\n",
    "url = \"https://www.reddit.com/search/?q=amlo&type=link&cId=421f03ec-ad71-4f3d-b166-befa7badadab&iId=91643a24-5f6e-4fd7-9a26-f24d8531b2a9\"\n",
    "\n",
    "# Send a GET request to the URL\n",
    "response = requests.get(url)\n",
    "\n",
    "# Parse the HTML content using BeautifulSoup\n",
    "soup = BeautifulSoup(response.text, 'html.parser')\n",
    "\n",
    "# Find all elements with the 'data-faceplate-tracking-context' attribute\n",
    "elements_with_context = soup.find_all(lambda tag: tag.has_attr('data-faceplate-tracking-context'))\n",
    "\n",
    "# Extract post titles from the attribute value\n",
    "for element in elements_with_context:\n",
    "    context_data_str = element['data-faceplate-tracking-context']\n",
    "    context_data = json.loads(context_data_str)\n",
    "    if 'post' in context_data:\n",
    "        post_title = context_data['post'].get('title')\n",
    "        if post_title:\n",
    "            print(post_title)\n"
   ]
  },
  {
   "cell_type": "markdown",
   "id": "b4e510f1-53f7-41c6-abce-85c5a6441af3",
   "metadata": {},
   "source": [
    "### Creating the data frame:"
   ]
  },
  {
   "cell_type": "code",
   "execution_count": 11,
   "id": "45051e87-1434-4c1b-94be-f5c59a3f3174",
   "metadata": {
    "tags": []
   },
   "outputs": [],
   "source": [
    "#pip install pandas"
   ]
  },
  {
   "cell_type": "code",
   "execution_count": 7,
   "id": "fe259b55-68fd-49db-a808-ec6a130fccbf",
   "metadata": {
    "tags": []
   },
   "outputs": [
    {
     "name": "stdout",
     "output_type": "stream",
     "text": [
      "                                          Post Titles\n",
      "0                                How is AMLO so cool?\n",
      "1                             Why is AMLO so popular?\n",
      "2              Entonces no toda la gente ama a AMLO ?\n",
      "3   What are your thoughts on Mexico's president A...\n",
      "4                          Pregunta incomoda a AMLO .\n",
      "5                                 AMLO en 60 Minutes.\n",
      "6                            ¿Por que el hate a AMLO?\n",
      "7   What do you think of AMLO saying that he won't...\n",
      "8             Como fue realmente el gobierno de AMLO \n",
      "9   Is true that AMLO has made no plans to track a...\n",
      "10     I knew AMLO was popular, but not this popular.\n",
      "11  Do Mexicans actually like AMLO? Because from t...\n",
      "12         Mexico's half a million march against AMLO\n",
      "13  In the USA, Amlo is constantly described as a ...\n",
      "14                              Amlo es el anticristo\n",
      "15  Mexican Redditors, is AMLO a left-wing or a ri...\n",
      "16  Mexico election: leftist Amlo set for historic...\n",
      "17  ¿Este sexenio fue el peor de todos con el pres...\n",
      "18                             Amlo tiene otros datos\n",
      "19    Why do you guys hate Amlo Manuel Lopez Obrador?\n",
      "20  AMLO rompe relaciones con Ecuador por la viola...\n",
      "21                       What's your opinion on AMLO?\n",
      "22                               How is AMLO so cool?\n",
      "23  What's going on with how Mexican redditors wen...\n",
      "24                                          Evil amlo\n"
     ]
    }
   ],
   "source": [
    "import pandas as pd\n",
    "\n",
    "# Create a list to store the post titles\n",
    "post_titles = []\n",
    "\n",
    "# Extract post titles from the attribute value\n",
    "for element in elements_with_context:\n",
    "    context_data_str = element['data-faceplate-tracking-context']\n",
    "    context_data = json.loads(context_data_str)\n",
    "    if 'post' in context_data:\n",
    "        post_title = context_data['post'].get('title')\n",
    "        if post_title:\n",
    "            post_titles.append(post_title)\n",
    "\n",
    "# Create a DataFrame from the list of post titles\n",
    "df = pd.DataFrame(post_titles, columns=['Post Titles'])\n",
    "\n",
    "# Display the DataFrame\n",
    "print(df)\n"
   ]
  },
  {
   "cell_type": "markdown",
   "id": "dc174134-4b45-4de6-bafc-e273deb5409f",
   "metadata": {},
   "source": [
    "### I will save this data frame in a csv file, just in case I need it later"
   ]
  },
  {
   "cell_type": "code",
   "execution_count": 9,
   "id": "23b95290-df55-492d-9460-858738b87e7c",
   "metadata": {
    "tags": []
   },
   "outputs": [
    {
     "name": "stdout",
     "output_type": "stream",
     "text": [
      "                                          Post Titles\n",
      "0                                How is AMLO so cool?\n",
      "1                             Why is AMLO so popular?\n",
      "2              Entonces no toda la gente ama a AMLO ?\n",
      "3   What are your thoughts on Mexico's president A...\n",
      "4                          Pregunta incomoda a AMLO .\n",
      "5                                 AMLO en 60 Minutes.\n",
      "6                            ¿Por que el hate a AMLO?\n",
      "7   What do you think of AMLO saying that he won't...\n",
      "8             Como fue realmente el gobierno de AMLO \n",
      "9   Is true that AMLO has made no plans to track a...\n",
      "10     I knew AMLO was popular, but not this popular.\n",
      "11  Do Mexicans actually like AMLO? Because from t...\n",
      "12         Mexico's half a million march against AMLO\n",
      "13  In the USA, Amlo is constantly described as a ...\n",
      "14                              Amlo es el anticristo\n",
      "15  Mexican Redditors, is AMLO a left-wing or a ri...\n",
      "16  Mexico election: leftist Amlo set for historic...\n",
      "17  ¿Este sexenio fue el peor de todos con el pres...\n",
      "18                             Amlo tiene otros datos\n",
      "19    Why do you guys hate Amlo Manuel Lopez Obrador?\n",
      "20  AMLO rompe relaciones con Ecuador por la viola...\n",
      "21                       What's your opinion on AMLO?\n",
      "22                               How is AMLO so cool?\n",
      "23  What's going on with how Mexican redditors wen...\n",
      "24                                          Evil amlo\n"
     ]
    }
   ],
   "source": [
    "import pandas as pd\n",
    "\n",
    "df = pd.DataFrame(post_titles, columns=['Post Titles'])\n",
    "\n",
    "df.to_csv('post_titles.csv', index=False)\n",
    "\n",
    "print(df)"
   ]
  },
  {
   "cell_type": "markdown",
   "id": "9636e731-b909-408b-b2c2-1723f0f2ce31",
   "metadata": {},
   "source": [
    "### Counting the word \"amlo\" (case-insensitive):"
   ]
  },
  {
   "cell_type": "code",
   "execution_count": 11,
   "id": "f27997f9-a26c-40d6-8e28-da3eb4e3d243",
   "metadata": {
    "tags": []
   },
   "outputs": [
    {
     "name": "stdout",
     "output_type": "stream",
     "text": [
      "Total count of 'AMLO' mentions (case-insensitive): 25\n"
     ]
    }
   ],
   "source": [
    "# Count the total occurrences of \"AMLO\" in all post titles (case-insensitive)\n",
    "total_amlo_count = df['Post Titles'].str.lower().str.count('amlo').sum()\n",
    "\n",
    "# Print the total count of \"AMLO\" occurrences\n",
    "print(\"Total count of 'AMLO' mentions (case-insensitive):\", total_amlo_count)\n"
   ]
  },
  {
   "cell_type": "code",
   "execution_count": 17,
   "id": "fd9ef886-b102-41ff-a78f-999f95e3cfca",
   "metadata": {
    "tags": []
   },
   "outputs": [],
   "source": [
    "#pip install matplotlib"
   ]
  },
  {
   "cell_type": "markdown",
   "id": "16ec4b40-4ab2-49c7-8bfa-c5d063d658a8",
   "metadata": {},
   "source": [
    "#### Counting the most repeated words in the posts:"
   ]
  },
  {
   "cell_type": "code",
   "execution_count": 13,
   "id": "409cd7bf-9778-4bef-89ac-e776ff210f05",
   "metadata": {
    "tags": []
   },
   "outputs": [
    {
     "data": {
      "image/png": "[encoded data removed]",
      "text/plain": [
       "<Figure size 1000x600 with 1 Axes>"
      ]
     },
     "metadata": {},
     "output_type": "display_data"
    }
   ],
   "source": [
    "import matplotlib.pyplot as plt\n",
    "from collections import Counter\n",
    "import re\n",
    "\n",
    "# Combine all post titles into a single string\n",
    "all_titles = ' '.join(df['Post Titles'])\n",
    "\n",
    "# Tokenize the words\n",
    "words = re.findall(r'\\b\\w+\\b', all_titles.lower())\n",
    "\n",
    "# Count the frequency of each word\n",
    "word_counts = Counter(words)\n",
    "\n",
    "# Extract the top N most common words\n",
    "top_words = word_counts.most_common(10)  # Change 10 to any desired number\n",
    "\n",
    "# Separate words and counts\n",
    "words, counts = zip(*top_words)\n",
    "\n",
    "# Visualize the top N most common words\n",
    "plt.figure(figsize=(10, 6))\n",
    "plt.bar(words, counts, color='salmon')\n",
    "plt.title('Top 10 Most Common Words in Post Titles')\n",
    "plt.xlabel('Words')\n",
    "plt.ylabel('Frequency')\n",
    "plt.xticks(rotation=45)\n",
    "plt.show()\n"
   ]
  },
  {
   "cell_type": "code",
   "execution_count": 20,
   "id": "b28e1a21-fc0b-49bd-ab71-60bd1afce3ac",
   "metadata": {
    "tags": []
   },
   "outputs": [],
   "source": [
    "#pip install nltk"
   ]
  },
  {
   "cell_type": "markdown",
   "id": "73911cd7-7eff-4a21-9046-f4c5b24ee3f5",
   "metadata": {},
   "source": [
    "### Visualizing the N-grams distribution:"
   ]
  },
  {
   "cell_type": "code",
   "execution_count": 15,
   "id": "cc2a8453-cab6-4894-93ad-f710846a8ec3",
   "metadata": {
    "tags": []
   },
   "outputs": [
    {
     "data": {
      "image/png": "[encoded data removed]",
      "text/plain": [
       "<Figure size 1200x800 with 1 Axes>"
      ]
     },
     "metadata": {},
     "output_type": "display_data"
    }
   ],
   "source": [
    "import matplotlib.pyplot as plt\n",
    "from nltk import ngrams\n",
    "from collections import Counter\n",
    "import re\n",
    "\n",
    "# Combine all post titles into a single string\n",
    "all_titles = ' '.join(df['Post Titles'])\n",
    "\n",
    "# Tokenize the words\n",
    "words = re.findall(r'\\b\\w+\\b', all_titles.lower())\n",
    "\n",
    "# Define the value of N for N-grams\n",
    "N = 1  # Change this value to adjust the size of N-grams\n",
    "\n",
    "# Generate N-grams\n",
    "n_grams = ngrams(words, N)\n",
    "\n",
    "# Count the frequency of each N-gram\n",
    "n_gram_counts = Counter(n_grams)\n",
    "\n",
    "# Separate N-grams and counts\n",
    "n_grams, counts = zip(*n_gram_counts.most_common())\n",
    "\n",
    "# Visualize the N-grams distribution\n",
    "plt.figure(figsize=(12, 8))\n",
    "plt.bar([' '.join(n_gram) for n_gram in n_grams], counts, color='skyblue')\n",
    "plt.title(f'Distribution of {N}-grams in Post Titles')\n",
    "plt.xlabel(f'{N}-grams')\n",
    "plt.ylabel('Frequency')\n",
    "plt.xticks(rotation=45)\n",
    "plt.show()\n"
   ]
  },
  {
   "cell_type": "markdown",
   "id": "c8c6cfff-34a8-487f-9668-1aa7d5147398",
   "metadata": {},
   "source": [
    "## Classification proposed"
   ]
  },
  {
   "cell_type": "markdown",
   "id": "f1f99ff8-bcb2-4002-b315-ef6a1f2dc538",
   "metadata": {},
   "source": [
    "### Construction model:"
   ]
  },
  {
   "cell_type": "code",
   "execution_count": 17,
   "id": "c318646f-0462-4c7c-a1bc-4a7996b8ea7b",
   "metadata": {
    "tags": []
   },
   "outputs": [
    {
     "name": "stdout",
     "output_type": "stream",
     "text": [
      "Generated Text:\n",
      "How is AMLO\n"
     ]
    }
   ],
   "source": [
    "from collections import defaultdict\n",
    "import random\n",
    "\n",
    "# Combine all post titles into a single string\n",
    "all_titles = ' '.join(df['Post Titles'])\n",
    "\n",
    "# Tokenize the words\n",
    "words = all_titles.split()\n",
    "\n",
    "# Define the order of the Markov chain (in this case, 1)\n",
    "order = 1\n",
    "\n",
    "# Create a dictionary to store transitions\n",
    "transitions = defaultdict(list)\n",
    "\n",
    "# Generate transitions\n",
    "for i in range(len(words) - order):\n",
    "    current_state = tuple(words[i:i + order])\n",
    "    next_state = words[i + order]\n",
    "    transitions[current_state].append(next_state)\n",
    "\n",
    "# Function to generate text using the Markov chain model\n",
    "def generate_text(seed_text, max_length=50):\n",
    "    current_state = tuple(seed_text.split())\n",
    "    output = list(current_state)\n",
    "    for _ in range(max_length):\n",
    "        if current_state not in transitions:\n",
    "            break\n",
    "        next_state = random.choice(transitions[current_state])\n",
    "        output.append(next_state)\n",
    "        current_state = tuple(output[-order:])\n",
    "        if next_state.endswith('.'):\n",
    "            break\n",
    "    return ' '.join(output)\n",
    "\n",
    "# Generate text based on a seed text\n",
    "seed_text = 'How is AMLO'\n",
    "generated_text = generate_text(seed_text)\n",
    "print(\"Generated Text:\")\n",
    "print(generated_text)"
   ]
  },
  {
   "cell_type": "markdown",
   "id": "e0b3e5c4-fc64-4ff5-9b11-c0a46dcdb799",
   "metadata": {},
   "source": [
    "### End Date (date time)"
   ]
  },
  {
   "cell_type": "code",
   "execution_count": 19,
   "id": "140f2678-2d33-4ebb-b34f-c8445c34235c",
   "metadata": {
    "tags": []
   },
   "outputs": [
    {
     "name": "stdout",
     "output_type": "stream",
     "text": [
      "Generated Text:\n",
      "How is AMLO\n"
     ]
    }
   ],
   "source": [
    "from datetime import datetime\n",
    "\n",
    "# Define the end date and time\n",
    "end_date = datetime(2024, 12, 31, 23, 59, 59)  # Example: December 31, 2024, 11:59:59 PM\n",
    "\n",
    "# Function to generate text using the Markov chain model with an end date\n",
    "def generate_text_with_end_date(seed_text, end_date):\n",
    "    current_state = tuple(seed_text.split())\n",
    "    output = list(current_state)\n",
    "    current_time = datetime.now()\n",
    "    while current_time < end_date:\n",
    "        if current_state not in transitions:\n",
    "            break\n",
    "        next_state = random.choice(transitions[current_state])\n",
    "        output.append(next_state)\n",
    "        current_state = tuple(output[-order:])\n",
    "        if next_state.endswith('.'):\n",
    "            break\n",
    "        current_time = datetime.now()\n",
    "    return ' '.join(output)\n",
    "\n",
    "# Generate text based on a seed text until the specified end date\n",
    "generated_text = generate_text_with_end_date(seed_text, end_date)\n",
    "print(\"Generated Text:\")\n",
    "print(generated_text)\n"
   ]
  },
  {
   "cell_type": "markdown",
   "id": "d085cc38-1f62-4257-b144-894931b9b0b8",
   "metadata": {},
   "source": [
    "### Train a Language Model"
   ]
  },
  {
   "cell_type": "code",
   "execution_count": 21,
   "id": "d5ab80ec-ae65-4aa2-8efa-de42af4c1302",
   "metadata": {
    "tags": []
   },
   "outputs": [],
   "source": [
    "from collections import defaultdict\n",
    "import re\n",
    "\n",
    "# Combine all post titles into a single string\n",
    "all_titles = ' '.join(df['Post Titles'])\n",
    "\n",
    "# Tokenize the text and preprocess\n",
    "tokenized_text = re.findall(r'\\b\\w+\\b', all_titles.lower())\n",
    "\n",
    "# Train a trigram language model\n",
    "def train_trigram_language_model(tokenized_text):\n",
    "    trigram_counts = defaultdict(lambda: defaultdict(int))\n",
    "    bigram_counts = defaultdict(int)\n",
    "    for i in range(len(tokenized_text) - 2):\n",
    "        bigram = (tokenized_text[i], tokenized_text[i + 1])\n",
    "        trigram = (tokenized_text[i], tokenized_text[i + 1], tokenized_text[i + 2])\n",
    "        trigram_counts[bigram][tokenized_text[i + 2]] += 1\n",
    "        bigram_counts[bigram] += 1\n",
    "    return trigram_counts, bigram_counts\n",
    "\n",
    "trigram_counts, bigram_counts = train_trigram_language_model(tokenized_text)\n"
   ]
  },
  {
   "cell_type": "markdown",
   "id": "fddeb2df-cffa-4f05-a166-b651b5a1ba94",
   "metadata": {},
   "source": [
    "### Estimate Probabilities"
   ]
  },
  {
   "cell_type": "code",
   "execution_count": 23,
   "id": "ae363015-2c7e-4e46-997d-ae3c0a8babe4",
   "metadata": {
    "tags": []
   },
   "outputs": [
    {
     "name": "stdout",
     "output_type": "stream",
     "text": [
      "Probability of trigram 'how is amlo': 1.0000\n"
     ]
    }
   ],
   "source": [
    "# Function to calculate the probability of a trigram given the previous two words (bigram)\n",
    "def trigram_probability(trigram, bigram_counts, trigram_counts):\n",
    "    bigram = (trigram[0], trigram[1])\n",
    "    if bigram_counts[bigram] == 0:\n",
    "        return 0\n",
    "    else:\n",
    "        return trigram_counts[bigram][trigram[2]] / bigram_counts[bigram]\n",
    "\n",
    "# Example usage:\n",
    "trigram = ('how', 'is', 'amlo')\n",
    "probability = trigram_probability(trigram, bigram_counts, trigram_counts)\n",
    "print(f\"Probability of trigram '{' '.join(trigram)}': {probability:.4f}\")\n"
   ]
  },
  {
   "cell_type": "markdown",
   "id": "326a04ee-b7f0-4bd3-aca3-bc1f821fdc7c",
   "metadata": {},
   "source": [
    "### Evaluate Grammatical Correctness"
   ]
  },
  {
   "cell_type": "code",
   "execution_count": 25,
   "id": "964f97ba-1edd-4ff0-b56b-7c24b654cd97",
   "metadata": {
    "tags": []
   },
   "outputs": [
    {
     "name": "stdout",
     "output_type": "stream",
     "text": [
      "Grammatical correctness of sequence 'how is amlo so cool': 0.8056\n"
     ]
    }
   ],
   "source": [
    "# Function to evaluate the grammatical correctness of a sequence of words\n",
    "def evaluate_grammatical_correctness(sequence, trigram_counts, bigram_counts):\n",
    "    trigrams = [(sequence[i], sequence[i + 1], sequence[i + 2]) for i in range(len(sequence) - 2)]\n",
    "    probabilities = [trigram_probability(trigram, bigram_counts, trigram_counts) for trigram in trigrams]\n",
    "    return sum(probabilities) / len(probabilities)\n",
    "\n",
    "# Example usage:\n",
    "sequence = ['how', 'is', 'amlo', 'so', 'cool']\n",
    "grammatical_correctness = evaluate_grammatical_correctness(sequence, trigram_counts, bigram_counts)\n",
    "print(f\"Grammatical correctness of sequence '{' '.join(sequence)}': {grammatical_correctness:.4f}\")\n"
   ]
  },
  {
   "cell_type": "markdown",
   "id": "ae7f2a7a-8ec9-4dfb-97f5-4d85d3f8dbde",
   "metadata": {},
   "source": [
    "### Apply Smoothing Techniques"
   ]
  },
  {
   "cell_type": "code",
   "execution_count": 27,
   "id": "4a84495a-718b-4285-aae9-49ac728b23ff",
   "metadata": {
    "tags": []
   },
   "outputs": [],
   "source": [
    "# Apply Laplace smoothing\n",
    "def laplace_smoothing(trigram_counts, bigram_counts, vocabulary_size):\n",
    "    smoothed_trigram_counts = defaultdict(lambda: defaultdict(int))\n",
    "    for bigram, counts in trigram_counts.items():\n",
    "        for word in vocabulary:\n",
    "            smoothed_trigram_counts[bigram][word] = (counts[word] + 1) / (bigram_counts[bigram] + vocabulary_size)\n",
    "    return smoothed_trigram_counts\n",
    "\n",
    "# Example usage:\n",
    "vocabulary = set(tokenized_text)\n",
    "smoothed_trigram_counts = laplace_smoothing(trigram_counts, bigram_counts, len(vocabulary))\n"
   ]
  },
  {
   "cell_type": "markdown",
   "id": "51ee0df4-c7f3-4704-8550-ad158549b9a1",
   "metadata": {},
   "source": [
    "### Thresholding"
   ]
  },
  {
   "cell_type": "code",
   "execution_count": 29,
   "id": "477acfe9-3154-4370-bf8e-0c8d54068e03",
   "metadata": {
    "tags": []
   },
   "outputs": [
    {
     "name": "stdout",
     "output_type": "stream",
     "text": [
      "Classification of sequence based on threshold: Grammatically Correct\n"
     ]
    }
   ],
   "source": [
    "# Define a threshold probability (e.g., 0.5)\n",
    "threshold_probability = 0.5\n",
    "\n",
    "# Function to classify the grammatical correctness of a sequence based on the threshold probability\n",
    "def classify_grammatical_correctness(sequence_probability, threshold):\n",
    "    if sequence_probability >= threshold:\n",
    "        return \"Grammatically Correct\"\n",
    "    else:\n",
    "        return \"Grammatically Incorrect\"\n",
    "\n",
    "# Example usage:\n",
    "classification = classify_grammatical_correctness(grammatical_correctness, threshold_probability)\n",
    "print(f\"Classification of sequence based on threshold: {classification}\")\n"
   ]
  },
  {
   "cell_type": "code",
   "execution_count": 38,
   "id": "de3cf5b5-b9a4-4287-9519-8e9a26d99673",
   "metadata": {
    "tags": []
   },
   "outputs": [],
   "source": [
    "#pip install pysentimiento"
   ]
  },
  {
   "cell_type": "code",
   "execution_count": 39,
   "id": "6ac8c95c-5dbc-4711-8cac-e2901bfdd834",
   "metadata": {
    "tags": []
   },
   "outputs": [],
   "source": [
    "#pip install vaderSentiment"
   ]
  },
  {
   "cell_type": "code",
   "execution_count": null,
   "id": "43b11a5f-e4cd-4bf8-953e-e5c55c4f2bb2",
   "metadata": {
    "tags": []
   },
   "outputs": [],
   "source": [
    "#pip uninstall torch"
   ]
  },
  {
   "cell_type": "code",
   "execution_count": 35,
   "id": "7168516a-32f4-48ce-8e98-be209b63b97c",
   "metadata": {
    "tags": []
   },
   "outputs": [],
   "source": [
    "#pip install torch"
   ]
  },
  {
   "cell_type": "markdown",
   "id": "c9c5728d-797b-466a-a68a-8e8026b6d4c7",
   "metadata": {},
   "source": [
    "### Sentimental Analysis (pysentimiento vs vader)"
   ]
  },
  {
   "cell_type": "markdown",
   "id": "67c2161d-10d6-433b-9c1a-5bf85b5b0540",
   "metadata": {},
   "source": [
    "### vader sentiment analysis:"
   ]
  },
  {
   "cell_type": "code",
   "execution_count": 33,
   "id": "23780d7c-f769-41b2-b432-f0db9c065e45",
   "metadata": {
    "tags": []
   },
   "outputs": [
    {
     "name": "stdout",
     "output_type": "stream",
     "text": [
      "                                         Post Titles VADER Sentiment\n",
      "0                               How is AMLO so cool?        Positive\n",
      "1                            Why is AMLO so popular?        Positive\n",
      "2             Entonces no toda la gente ama a AMLO ?        Negative\n",
      "3         Mexico's half a million march against AMLO        Negative\n",
      "4                                AMLO en 60 Minutes.         Neutral\n",
      "5  What are your thoughts on Mexico's president A...        Positive\n",
      "6                           ¿Por que el hate a AMLO?        Negative\n",
      "7  Is true that AMLO has made no plans to track a...         Neutral\n",
      "8             Como fue realmente el gobierno de AMLO        Negative\n",
      "9     What do you think of AMLO saying that he wo...        Positive\n"
     ]
    }
   ],
   "source": [
    "import pandas as pd\n",
    "\n",
    "# Sample data\n",
    "data = {\n",
    "    \"Post Titles\": [\n",
    "        \"How is AMLO so cool?\", \"Why is AMLO so popular?\",\n",
    "        \"Entonces no toda la gente ama a AMLO ?\", \"Mexico's half a million march against AMLO\",\n",
    "        \"AMLO en 60 Minutes.\", \"What are your thoughts on Mexico's president A...\",\n",
    "        \"¿Por que el hate a AMLO?\", \"Is true that AMLO has made no plans to track a...\",\n",
    "        \"Como fue realmente el gobierno de AMLO\", \"What do you think of AMLO saying that he wo...\"\n",
    "    ]\n",
    "}\n",
    "\n",
    "# Create a DataFrame from the sample data\n",
    "df = pd.DataFrame(data)\n",
    "\n",
    "# Function to map VADER sentiment scores to sentiment categories\n",
    "def map_vader_sentiment(score):\n",
    "    if score >= 0.05:\n",
    "        return 'Positive'\n",
    "    elif score <= -0.05:\n",
    "        return 'Negative'\n",
    "    else:\n",
    "        return 'Neutral'\n",
    "\n",
    "# Sample VADER sentiment scores\n",
    "vader_scores = [0.4, 0.3, -0.6, -0.7, 0.0, 0.1, -0.8, 0.0, -0.9, 0.2]\n",
    "\n",
    "# Map VADER sentiment scores to sentiment categories\n",
    "df['VADER Sentiment'] = [map_vader_sentiment(score) for score in vader_scores]\n",
    "\n",
    "# Display the DataFrame\n",
    "print(df)\n"
   ]
  },
  {
   "cell_type": "markdown",
   "id": "27ffc5c8-12d1-42fe-b373-0a1e638bfa6e",
   "metadata": {},
   "source": [
    "### pysentimiento sentiment analysis:"
   ]
  },
  {
   "cell_type": "code",
   "execution_count": null,
   "id": "3f475fa1-06a3-4009-8837-b6730c1d9601",
   "metadata": {},
   "outputs": [],
   "source": [
    "import pandas as pd\n",
    "from pysentimiento import SentimentAnalyzerPT\n",
    "\n",
    "# Sample data\n",
    "data = {\n",
    "    \"Post Titles\": [\n",
    "        \"How is AMLO so cool?\", \"Why is AMLO so popular?\",\n",
    "        \"Entonces no toda la gente ama a AMLO ?\", \"Mexico's half a million march against AMLO\",\n",
    "        \"AMLO en 60 Minutes.\", \"What are your thoughts on Mexico's president A...\",\n",
    "        \"¿Por que el hate a AMLO?\", \"Is true that AMLO has made no plans to track a...\",\n",
    "        \"Como fue realmente el gobierno de AMLO\", \"What do you think of AMLO saying that he wo...\"\n",
    "    ]\n",
    "}\n",
    "\n",
    "# Create a DataFrame from the sample data\n",
    "df = pd.DataFrame(data)\n",
    "\n",
    "# Sentiment analysis using pysentimiento\n",
    "analyzer = SentimentAnalyzerPT()\n",
    "df['pysentimiento Sentiment'] = df['Post Titles'].apply(analyzer.predict)\n",
    "\n",
    "# Function to map VADER sentiment scores to sentiment categories\n",
    "def map_vader_sentiment(score):\n",
    "    if score >= 0.05:\n",
    "        return 'Positive'\n",
    "    elif score <= -0.05:\n",
    "        return 'Negative'\n",
    "    else:\n",
    "        return 'Neutral'\n",
    "\n",
    "# Sample VADER sentiment scores\n",
    "vader_scores = [0.4, 0.3, -0.6, -0.7, 0.0, 0.1, -0.8, 0.0, -0.9, 0.2]\n",
    "\n",
    "# Map VADER sentiment scores to sentiment categories\n",
    "df['VADER Sentiment'] = [map_vader_sentiment(score) for score in vader_scores]\n",
    "\n",
    "# Display the DataFrame\n",
    "print(df)"
   ]
  },
  {
   "cell_type": "markdown",
   "id": "23f04bf7-2ab3-4a52-a5f9-67ac28f331c0",
   "metadata": {},
   "source": [
    "### pysentimiento and vader sentiment analysis:"
   ]
  },
  {
   "cell_type": "code",
   "execution_count": null,
   "id": "ad1354c6-5afd-47cf-b4e4-8f2044569496",
   "metadata": {},
   "outputs": [],
   "source": [
    "import pandas as pd\n",
    "from pysentimiento import SentimentAnalyzerPT\n",
    "from vaderSentiment.vaderSentiment import SentimentIntensityAnalyzer\n",
    "\n",
    "# Assuming elements_with_context contains post titles\n",
    "\n",
    "# Create a list to store the post titles\n",
    "post_titles = []\n",
    "\n",
    "# Assuming elements_with_context is defined elsewhere in your code\n",
    "\n",
    "# Extract post titles from the attribute value\n",
    "for element in elements_with_context:\n",
    "    context_data_str = element['data-faceplate-tracking-context']\n",
    "    context_data = json.loads(context_data_str)\n",
    "    if 'post' in context_data:\n",
    "        post_title = context_data['post'].get('title')\n",
    "        if post_title:\n",
    "            post_titles.append(post_title)\n",
    "\n",
    "# Create a DataFrame from the list of post titles\n",
    "df = pd.DataFrame(post_titles, columns=['Post Titles'])\n",
    "\n",
    "# Sentiment analysis using pysentimiento\n",
    "analyzer = SentimentAnalyzerPT()\n",
    "df['pysentimiento Sentiment'] = df['Post Titles'].apply(analyzer.predict)\n",
    "\n",
    "# Sentiment analysis using VADER\n",
    "vader_analyzer = SentimentIntensityAnalyzer()\n",
    "df['VADER Sentiment Score'] = df['Post Titles'].apply(lambda x: vader_analyzer.polarity_scores(x)['compound'])\n",
    "\n",
    "# Map VADER sentiment scores to sentiment categories\n",
    "def map_vader_sentiment(score):\n",
    "    if score >= 0.05:\n",
    "        return 'Positive'\n",
    "    elif score <= -0.05:\n",
    "        return 'Negative'\n",
    "    else:\n",
    "        return 'Neutral'\n",
    "\n",
    "df['VADER Sentiment'] = df['VADER Sentiment Score'].apply(map_vader_sentiment)\n",
    "\n",
    "# Drop the VADER Sentiment Score column\n",
    "df.drop(columns=['VADER Sentiment Score'], inplace=True)\n",
    "\n",
    "# Display the DataFrame\n",
    "print(df)"
   ]
  },
  {
   "cell_type": "markdown",
   "id": "a86d80dd-ac74-4f96-a99d-ff8357164f89",
   "metadata": {},
   "source": [
    "The MLOps part will be done with mlflow performing the following tasks\n",
    "- Log metrics\n",
    "- Model signatures\n",
    "- Save the plot and log it as an artifact\n",
    "- Tracking url (localhost)\n",
    "- Run MLOps"
   ]
  },
  {
   "cell_type": "markdown",
   "id": "f4d19756-5d05-4cfe-8dfa-970a6de3eff1",
   "metadata": {},
   "source": [
    "Install MLflow:"
   ]
  },
  {
   "cell_type": "code",
   "execution_count": 55,
   "id": "cb2bf020-30cd-4a69-a89d-84b000b3ec58",
   "metadata": {
    "tags": []
   },
   "outputs": [],
   "source": [
    "#pip install mlflow"
   ]
  },
  {
   "cell_type": "markdown",
   "id": "2b7b73aa-ff25-428a-87ec-dba05c039c09",
   "metadata": {},
   "source": [
    "Import the necessary libraries and initialize MLflow:"
   ]
  },
  {
   "cell_type": "code",
   "execution_count": null,
   "id": "861f73c6-ae06-4ea9-9fa7-21b6fc2657bf",
   "metadata": {},
   "outputs": [],
   "source": [
    "import pandas as pd\n",
    "from pysentimiento import SentimentAnalyzerPT\n",
    "from vaderSentiment.vaderSentiment import SentimentIntensityAnalyzer\n",
    "import mlflow\n",
    "import matplotlib.pyplot as plt\n",
    "\n",
    "# Start MLflow tracking\n",
    "mlflow.set_tracking_uri(\"http://localhost:5000\")  # Set the tracking URI to localhost\n",
    "mlflow.start_run(run_name=\"Sentiment Analysis\")   # Start a new MLflow run"
   ]
  },
  {
   "cell_type": "markdown",
   "id": "694f171c-94a3-49bf-a4e3-5d8f21a8ffde",
   "metadata": {},
   "source": [
    "Perform sentiment analysis using pysentimiento and VADER, and log the metrics:"
   ]
  },
  {
   "cell_type": "code",
   "execution_count": null,
   "id": "f2203fb7-0ac4-44c2-8cbe-b8bfc000835c",
   "metadata": {},
   "outputs": [],
   "source": [
    "# Sentiment analysis using pysentimiento\n",
    "analyzer = SentimentAnalyzerPT()\n",
    "df['pysentimiento Sentiment'] = df['Post Titles'].apply(analyzer.predict)\n",
    "\n",
    "# Log metrics for pysentimiento\n",
    "pysentimiento_positive_count = (df['pysentimiento Sentiment'] == 'Positive').sum()\n",
    "pysentimiento_negative_count = (df['pysentimiento Sentiment'] == 'Negative').sum()\n",
    "pysentimiento_neutral_count = (df['pysentimiento Sentiment'] == 'Neutral').sum()\n",
    "\n",
    "mlflow.log_metric(\"pysentimiento Positive Count\", pysentimiento_positive_count)\n",
    "mlflow.log_metric(\"pysentimiento Negative Count\", pysentimiento_negative_count)\n",
    "mlflow.log_metric(\"pysentimiento Neutral Count\", pysentimiento_neutral_count)\n",
    "\n",
    "# Sentiment analysis using VADER\n",
    "vader_analyzer = SentimentIntensityAnalyzer()\n",
    "df['VADER Sentiment Score'] = df['Post Titles'].apply(lambda x: vader_analyzer.polarity_scores(x)['compound'])\n",
    "\n",
    "# Map VADER sentiment scores to sentiment categories\n",
    "def map_vader_sentiment(score):\n",
    "    if score >= 0.05:\n",
    "        return 'Positive'\n",
    "    elif score <= -0.05:\n",
    "        return 'Negative'\n",
    "    else:\n",
    "        return 'Neutral'\n",
    "\n",
    "df['VADER Sentiment'] = [map_vader_sentiment(score) for score in df['VADER Sentiment Score']]\n",
    "\n",
    "# Log metrics for VADER\n",
    "vader_positive_count = (df['VADER Sentiment'] == 'Positive').sum()\n",
    "vader_negative_count = (df['VADER Sentiment'] == 'Negative').sum()\n",
    "vader_neutral_count = (df['VADER Sentiment'] == 'Neutral').sum()\n",
    "\n",
    "mlflow.log_metric(\"VADER Positive Count\", vader_positive_count)\n",
    "mlflow.log_metric(\"VADER Negative Count\", vader_negative_count)\n",
    "mlflow.log_metric(\"VADER Neutral Count\", vader_neutral_count)\n"
   ]
  },
  {
   "cell_type": "markdown",
   "id": "b3ab328d-f67d-4698-90c6-a99f56d7bcec",
   "metadata": {},
   "source": [
    "Define model signatures"
   ]
  },
  {
   "cell_type": "code",
   "execution_count": null,
   "id": "8dbf89b1-1ce1-4702-8f9d-4b83f544365a",
   "metadata": {},
   "outputs": [],
   "source": [
    "# Define model signatures\n",
    "mlflow.set_tag(\"pysentimiento Signature\", str(analyzer.model))\n",
    "mlflow.set_tag(\"VADER Signature\", \"Compound Score\")"
   ]
  },
  {
   "cell_type": "markdown",
   "id": "d73cdb5b-0557-410d-953a-df773d586dcd",
   "metadata": {},
   "source": [
    "Save a plot and log it as an artifact:"
   ]
  },
  {
   "cell_type": "code",
   "execution_count": null,
   "id": "9a699b49-ebeb-4c25-8c1f-51699d901614",
   "metadata": {},
   "outputs": [],
   "source": [
    "# Plot sentiment analysis results\n",
    "fig, ax = plt.subplots(figsize=(10, 6))\n",
    "df['pysentimiento Sentiment'].value_counts().plot(kind='bar', ax=ax, color='skyblue', alpha=0.7)\n",
    "ax.set_title('Sentiment Analysis Results (pysentimiento)')\n",
    "ax.set_xlabel('Sentiment')\n",
    "ax.set_ylabel('Count')\n",
    "plt.tight_layout()\n",
    "\n",
    "# Save the plot as an artifact\n",
    "plot_path = \"sentiment_analysis_plot.png\"\n",
    "plt.savefig(plot_path)\n",
    "\n",
    "# Log the plot as an artifact\n",
    "mlflow.log_artifact(plot_path)\n"
   ]
  },
  {
   "cell_type": "markdown",
   "id": "fa6f653a-ec6f-4d69-bb74-a056b756df5a",
   "metadata": {},
   "source": [
    "End the MLflow run:"
   ]
  },
  {
   "cell_type": "code",
   "execution_count": null,
   "id": "df1dc571-cb20-4a0f-9eb3-79471514d5d2",
   "metadata": {},
   "outputs": [],
   "source": [
    "# End MLflow run\n",
    "mlflow.end_run()\n"
   ]
  }
 ],
 "metadata": {
  "kernelspec": {
   "display_name": "Python 3 (ipykernel)",
   "language": "python",
   "name": "python3"
  },
  "language_info": {
   "codemirror_mode": {
    "name": "ipython",
    "version": 3
   },
   "file_extension": ".py",
   "mimetype": "text/x-python",
   "name": "python",
   "nbconvert_exporter": "python",
   "pygments_lexer": "ipython3",
   "version": "3.11.7"
  }
 },
 "nbformat": 4,
 "nbformat_minor": 5
}

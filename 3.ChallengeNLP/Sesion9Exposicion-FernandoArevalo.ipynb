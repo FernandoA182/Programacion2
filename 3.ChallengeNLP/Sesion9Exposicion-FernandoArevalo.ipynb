{
 "cells": [
  {
   "cell_type": "markdown",
   "id": "f4ce369d",
   "metadata": {},
   "source": [
    "## Websraping"
   ]
  },
  {
   "cell_type": "code",
   "execution_count": 1,
   "id": "3562aeb9",
   "metadata": {},
   "outputs": [],
   "source": [
    "#pip install requests beautifulsoup4"
   ]
  },
  {
   "cell_type": "code",
   "execution_count": 2,
   "id": "226e3fe5",
   "metadata": {},
   "outputs": [],
   "source": [
    "#!pip install requests beautifulsoup4"
   ]
  },
  {
   "cell_type": "code",
   "execution_count": 3,
   "id": "fa44272a",
   "metadata": {},
   "outputs": [],
   "source": [
    "import requests"
   ]
  },
  {
   "cell_type": "code",
   "execution_count": 4,
   "id": "39f16d67",
   "metadata": {},
   "outputs": [],
   "source": [
    "req = requests.get(\"https://example.com\")"
   ]
  },
  {
   "cell_type": "code",
   "execution_count": 5,
   "id": "d4775cd3",
   "metadata": {},
   "outputs": [
    {
     "name": "stdout",
     "output_type": "stream",
     "text": [
      "<!doctype html>\n",
      "<html>\n",
      "<head>\n",
      "    <title>Example Domain</title>\n",
      "\n",
      "    <meta charset=\"utf-8\" />\n",
      "    <meta http-equiv=\"Content-type\" content=\"text/html; charset=utf-8\" />\n",
      "    <meta name=\"viewport\" content=\"width=device-width, initial-scale=1\" />\n",
      "    <style type=\"text/css\">\n",
      "    body {\n",
      "        background-color: #f0f0f2;\n",
      "        margin: 0;\n",
      "        padding: 0;\n",
      "        font-family: -apple-system, system-ui, BlinkMacSystemFont, \"Segoe UI\", \"Open Sans\", \"Helvetica Neue\", Helvetica, Arial, sans-serif;\n",
      "        \n",
      "    }\n",
      "    div {\n",
      "        width: 600px;\n",
      "        margin: 5em auto;\n",
      "        padding: 2em;\n",
      "        background-color: #fdfdff;\n",
      "        border-radius: 0.5em;\n",
      "        box-shadow: 2px 3px 7px 2px rgba(0,0,0,0.02);\n",
      "    }\n",
      "    a:link, a:visited {\n",
      "        color: #38488f;\n",
      "        text-decoration: none;\n",
      "    }\n",
      "    @media (max-width: 700px) {\n",
      "        div {\n",
      "            margin: 0 auto;\n",
      "            width: auto;\n",
      "        }\n",
      "    }\n",
      "    </style>    \n",
      "</head>\n",
      "\n",
      "<body>\n",
      "<div>\n",
      "    <h1>Example Domain</h1>\n",
      "    <p>This domain is for use in illustrative examples in documents. You may use this\n",
      "    domain in literature without prior coordination or asking for permission.</p>\n",
      "    <p><a href=\"https://www.iana.org/domains/example\">More information...</a></p>\n",
      "</div>\n",
      "</body>\n",
      "</html>\n",
      "\n"
     ]
    }
   ],
   "source": [
    "print(req.text)"
   ]
  },
  {
   "cell_type": "code",
   "execution_count": 6,
   "id": "dfd6f34e",
   "metadata": {},
   "outputs": [],
   "source": [
    "from bs4 import BeautifulSoup"
   ]
  },
  {
   "cell_type": "code",
   "execution_count": 7,
   "id": "47c14142",
   "metadata": {},
   "outputs": [
    {
     "name": "stdout",
     "output_type": "stream",
     "text": [
      "<!DOCTYPE html>\n",
      "<html>\n",
      "<head>\n",
      "<title>Example Domain</title>\n",
      "<meta charset=\"utf-8\"/>\n",
      "<meta content=\"text/html; charset=utf-8\" http-equiv=\"Content-type\"/>\n",
      "<meta content=\"width=device-width, initial-scale=1\" name=\"viewport\"/>\n",
      "<style type=\"text/css\">\n",
      "    body {\n",
      "        background-color: #f0f0f2;\n",
      "        margin: 0;\n",
      "        padding: 0;\n",
      "        font-family: -apple-system, system-ui, BlinkMacSystemFont, \"Segoe UI\", \"Open Sans\", \"Helvetica Neue\", Helvetica, Arial, sans-serif;\n",
      "        \n",
      "    }\n",
      "    div {\n",
      "        width: 600px;\n",
      "        margin: 5em auto;\n",
      "        padding: 2em;\n",
      "        background-color: #fdfdff;\n",
      "        border-radius: 0.5em;\n",
      "        box-shadow: 2px 3px 7px 2px rgba(0,0,0,0.02);\n",
      "    }\n",
      "    a:link, a:visited {\n",
      "        color: #38488f;\n",
      "        text-decoration: none;\n",
      "    }\n",
      "    @media (max-width: 700px) {\n",
      "        div {\n",
      "            margin: 0 auto;\n",
      "            width: auto;\n",
      "        }\n",
      "    }\n",
      "    </style>\n",
      "</head>\n",
      "<body>\n",
      "<div>\n",
      "<h1>Example Domain</h1>\n",
      "<p>This domain is for use in illustrative examples in documents. You may use this\n",
      "    domain in literature without prior coordination or asking for permission.</p>\n",
      "<p><a href=\"https://www.iana.org/domains/example\">More information...</a></p>\n",
      "</div>\n",
      "</body>\n",
      "</html>\n",
      "\n"
     ]
    }
   ],
   "source": [
    "soup = BeautifulSoup(req.text)\n",
    "print(soup)"
   ]
  },
  {
   "cell_type": "code",
   "execution_count": 8,
   "id": "a9029384",
   "metadata": {},
   "outputs": [
    {
     "data": {
      "text/plain": [
       "[<title>Example Domain</title>]"
      ]
     },
     "execution_count": 8,
     "metadata": {},
     "output_type": "execute_result"
    }
   ],
   "source": [
    "soup.select(\"title\")"
   ]
  },
  {
   "cell_type": "code",
   "execution_count": 9,
   "id": "10ce78bf",
   "metadata": {},
   "outputs": [
    {
     "data": {
      "text/plain": [
       "bs4.element.ResultSet"
      ]
     },
     "execution_count": 9,
     "metadata": {},
     "output_type": "execute_result"
    }
   ],
   "source": [
    "type(soup.select(\"title\"))"
   ]
  },
  {
   "cell_type": "code",
   "execution_count": 10,
   "id": "d2f44143",
   "metadata": {},
   "outputs": [
    {
     "data": {
      "text/plain": [
       "bs4.element.Tag"
      ]
     },
     "execution_count": 10,
     "metadata": {},
     "output_type": "execute_result"
    }
   ],
   "source": [
    "type(soup.select(\"title\")[0])"
   ]
  },
  {
   "cell_type": "code",
   "execution_count": 11,
   "id": "8ba7bb12",
   "metadata": {},
   "outputs": [
    {
     "data": {
      "text/plain": [
       "'Example Domain'"
      ]
     },
     "execution_count": 11,
     "metadata": {},
     "output_type": "execute_result"
    }
   ],
   "source": [
    "soup.select(\"title\")[0].getText()"
   ]
  },
  {
   "cell_type": "code",
   "execution_count": 12,
   "id": "5ded9ac8",
   "metadata": {},
   "outputs": [
    {
     "data": {
      "text/plain": [
       "[<h1>Example Domain</h1>]"
      ]
     },
     "execution_count": 12,
     "metadata": {},
     "output_type": "execute_result"
    }
   ],
   "source": [
    "soup.select(\"h1\")"
   ]
  },
  {
   "cell_type": "code",
   "execution_count": 13,
   "id": "0bdabf85",
   "metadata": {},
   "outputs": [
    {
     "data": {
      "text/plain": [
       "[<p>This domain is for use in illustrative examples in documents. You may use this\n",
       "     domain in literature without prior coordination or asking for permission.</p>,\n",
       " <p><a href=\"https://www.iana.org/domains/example\">More information...</a></p>]"
      ]
     },
     "execution_count": 13,
     "metadata": {},
     "output_type": "execute_result"
    }
   ],
   "source": [
    "soup.select(\"p\")"
   ]
  },
  {
   "cell_type": "code",
   "execution_count": 14,
   "id": "74d42154",
   "metadata": {},
   "outputs": [
    {
     "data": {
      "text/plain": [
       "'More information...'"
      ]
     },
     "execution_count": 14,
     "metadata": {},
     "output_type": "execute_result"
    }
   ],
   "source": [
    "#Seleccionar el segundo parrafo del primer enlace\n",
    "a = soup.select(\"p\")[1].select(\"a\")[0]\n",
    "\n",
    "a.getText()"
   ]
  },
  {
   "cell_type": "code",
   "execution_count": 15,
   "id": "34f1518e",
   "metadata": {},
   "outputs": [
    {
     "data": {
      "text/plain": [
       "'https://www.iana.org/domains/example'"
      ]
     },
     "execution_count": 15,
     "metadata": {},
     "output_type": "execute_result"
    }
   ],
   "source": [
    "#Atributo con la dirección del enlace\n",
    "a['href']"
   ]
  },
  {
   "cell_type": "markdown",
   "id": "510c0d7d",
   "metadata": {},
   "source": [
    "Estos valores están mapeados del diccionario attrs:"
   ]
  },
  {
   "cell_type": "code",
   "execution_count": 16,
   "id": "60dd1a66",
   "metadata": {},
   "outputs": [
    {
     "data": {
      "text/plain": [
       "dict_items([('href', 'https://www.iana.org/domains/example')])"
      ]
     },
     "execution_count": 16,
     "metadata": {},
     "output_type": "execute_result"
    }
   ],
   "source": [
    "a.attrs.items()"
   ]
  },
  {
   "cell_type": "markdown",
   "id": "6105a790",
   "metadata": {},
   "source": [
    "Obteniendo los atributos"
   ]
  },
  {
   "cell_type": "code",
   "execution_count": 17,
   "id": "324d1f52",
   "metadata": {},
   "outputs": [
    {
     "name": "stdout",
     "output_type": "stream",
     "text": [
      "charset: utf-8\n",
      "http-equiv: Content-type\n",
      "content: text/html; charset=utf-8\n",
      "name: viewport\n",
      "content: width=device-width, initial-scale=1\n"
     ]
    }
   ],
   "source": [
    "for meta in soup.select(\"meta\"):\n",
    "    for atributo, valor in meta.attrs.items():\n",
    "        print(f\"{atributo}: {valor}\")"
   ]
  },
  {
   "cell_type": "markdown",
   "id": "3c94a0ee",
   "metadata": {},
   "source": [
    "### Uso de selectores"
   ]
  },
  {
   "cell_type": "code",
   "execution_count": 19,
   "id": "316f8248",
   "metadata": {},
   "outputs": [
    {
     "name": "stdout",
     "output_type": "stream",
     "text": [
      "Python - Wikipedia, la enciclopedia libre\n"
     ]
    }
   ],
   "source": [
    "#import requests\n",
    "#from bs4 import BeautifulSoup\n",
    "\n",
    "req = requests.get(\"https://web.archive.org/web/20220722211457/https://es.wikipedia.org/wiki/Python\")\n",
    "soup = BeautifulSoup(req.text)\n",
    "\n",
    "title = soup.select(\"title\")[0].getText()\n",
    "print(title)"
   ]
  },
  {
   "cell_type": "code",
   "execution_count": 20,
   "id": "8ce98d4c",
   "metadata": {},
   "outputs": [
    {
     "name": "stdout",
     "output_type": "stream",
     "text": [
      "Python es un lenguaje de alto nivel de programación interpretado cuya filosofía hace hincapié en la legibilidad de su código, se utiliza para desarrollar aplicaciones de todo tipo, ejemplos: Instagram, Netflix, Spotify, Panda 3D, entre otros.[2]​ Se trata de un lenguaje de programación multiparadigma, ya que soporta parcialmente la orientación a objetos, programación imperativa y, en menor medida[¿cuál?], programación funcional. Es un lenguaje interpretado, dinámico y multiplataforma.\n",
      "\n"
     ]
    }
   ],
   "source": [
    "resumen = soup.select(\"p\")[0].getText()\n",
    "print(resumen)"
   ]
  },
  {
   "cell_type": "markdown",
   "id": "50efa8d9",
   "metadata": {},
   "source": [
    "### Scrapeando el índice"
   ]
  },
  {
   "cell_type": "markdown",
   "id": "43743583",
   "metadata": {},
   "source": [
    "\n",
    "```html\n",
    "<div id=\"toc\" class=\"toc\" role=\"navigation\" aria-labelledby=\"mw-toc-heading\">\n",
    "```"
   ]
  },
  {
   "cell_type": "code",
   "execution_count": 21,
   "id": "454181e5",
   "metadata": {},
   "outputs": [
    {
     "name": "stdout",
     "output_type": "stream",
     "text": [
      "1 Historia\n",
      "2 Características y paradigmas\n",
      "3 Filosofía\n",
      "4 Modo interactivo\n",
      "5 Elementos del lenguaje y sintaxis\n",
      "5.1 Comentarios\n",
      "5.2 Variables\n",
      "5.3 Tipos de datos\n",
      "5.4 Condicionales\n",
      "5.5 Bucle for\n",
      "5.6 Bucle while\n",
      "5.7 Listas y Tuplas\n",
      "5.8 Diccionarios\n",
      "5.9 Sentencia Switch Case\n",
      "5.9.1 Usando if, elif, else\n",
      "5.9.2 Usando diccionario\n",
      "5.10 Conjuntos\n",
      "5.11 Listas por comprensión\n",
      "5.12 Funciones\n",
      "5.13 Clases\n",
      "5.14 Módulos\n",
      "5.14.1 Instalación de módulos (pip)\n",
      "5.14.2 Interfaz al sistema operativo\n",
      "5.14.3 Comodines de archivos\n",
      "5.14.4 Argumentos de línea de órdenes\n",
      "5.14.5 Matemática\n",
      "5.14.6 Fechas y Tiempos\n",
      "5.14.7 Módulo Turtle\n",
      "6 Sistema de objetos\n",
      "7 Biblioteca estándar\n",
      "8 Implementaciones\n",
      "9 Incidencias\n",
      "10 Véase también\n",
      "11 Referencias\n",
      "12 Bibliografía\n",
      "13 Enlaces externos\n"
     ]
    }
   ],
   "source": [
    "toc = soup.select(\"#toc\")[0]\n",
    "\n",
    "for a in toc.select(\"a\"):\n",
    "    print(a.getText())"
   ]
  },
  {
   "cell_type": "code",
   "execution_count": 22,
   "id": "ad7bcf38",
   "metadata": {},
   "outputs": [
    {
     "name": "stdout",
     "output_type": "stream",
     "text": [
      "1 Historia\n",
      "2 Características y paradigmas\n",
      "3 Filosofía\n",
      "4 Modo interactivo\n",
      "5 Elementos del lenguaje y sintaxis\n",
      "6 Sistema de objetos\n",
      "7 Biblioteca estándar\n",
      "8 Implementaciones\n",
      "9 Incidencias\n",
      "10 Véase también\n",
      "11 Referencias\n",
      "12 Bibliografía\n",
      "13 Enlaces externos\n"
     ]
    }
   ],
   "source": [
    "import re\n",
    "\n",
    "for a in toc.select(\"a\"):\n",
    "    text = a.getText()\n",
    "    if re.match(r\"\\d+ \", text):\n",
    "        print(text)"
   ]
  },
  {
   "cell_type": "code",
   "execution_count": 24,
   "id": "37269f42",
   "metadata": {},
   "outputs": [
    {
     "name": "stdout",
     "output_type": "stream",
     "text": [
      "1 Historia\n",
      "2 Características y paradigmas\n",
      "3 Filosofía\n",
      "4 Modo interactivo\n",
      "5 Elementos del lenguaje y sintaxis\n",
      "  5.1 Comentarios\n",
      "  5.2 Variables\n",
      "  5.3 Tipos de datos\n",
      "  5.4 Condicionales\n",
      "  5.5 Bucle for\n",
      "  5.6 Bucle while\n",
      "  5.7 Listas y Tuplas\n",
      "  5.8 Diccionarios\n",
      "  5.9 Sentencia Switch Case\n",
      "    5.9.1 Usando if, elif, else\n",
      "    5.9.2 Usando diccionario\n",
      "  5.10 Conjuntos\n",
      "  5.11 Listas por comprensión\n",
      "  5.12 Funciones\n",
      "  5.13 Clases\n",
      "  5.14 Módulos\n",
      "    5.14.1 Instalación de módulos (pip)\n",
      "    5.14.2 Interfaz al sistema operativo\n",
      "    5.14.3 Comodines de archivos\n",
      "    5.14.4 Argumentos de línea de órdenes\n",
      "    5.14.5 Matemática\n",
      "    5.14.6 Fechas y Tiempos\n",
      "    5.14.7 Módulo Turtle\n",
      "6 Sistema de objetos\n",
      "7 Biblioteca estándar\n",
      "8 Implementaciones\n",
      "9 Incidencias\n",
      "10 Véase también\n",
      "11 Referencias\n",
      "12 Bibliografía\n",
      "13 Enlaces externos\n"
     ]
    }
   ],
   "source": [
    "import re\n",
    "\n",
    "for a in toc.select(\"a\"):\n",
    "    text = a.getText()\n",
    "    if re.match(r\"\\d+ \", text):\n",
    "        print(text)\n",
    "    elif re.match(r\"\\d+.\\d+ \", text):\n",
    "        print(\" \", text)\n",
    "    elif re.match(r\"\\d+.\\d+.\\d+ \", text):\n",
    "        print(\"   \", text)"
   ]
  },
  {
   "cell_type": "markdown",
   "id": "bc0101cd",
   "metadata": {},
   "source": [
    "### Scrapeando la caja de información"
   ]
  },
  {
   "cell_type": "markdown",
   "id": "1eb96033",
   "metadata": {},
   "source": [
    "\n",
    "```html\n",
    "<table class=\"infobox\" style=\"width:22.7em; line-height: 1.4em; text-align:left; padding:.23em;\">\n",
    "```"
   ]
  },
  {
   "cell_type": "code",
   "execution_count": 26,
   "id": "ea456c2e",
   "metadata": {},
   "outputs": [
    {
     "name": "stdout",
     "output_type": "stream",
     "text": [
      "Python\n",
      "\n",
      "\n",
      "Desarrollador(es)\n",
      "\n",
      "Python Software FoundationSitio web oficial\n",
      "Información general\n",
      "Extensiones comunes\n",
      ".py, .pyc, .pyd, .pyo, .pyw, .pyz, .pyi\n",
      "Paradigma\n",
      "Multiparadigma: orientado a objetos, imperativo, funcional, reflexivo\n",
      "Apareció en\n",
      "1991\n",
      "Diseñado por\n",
      "Guido van Rossum\n",
      "Última versión estable\n",
      "3.10.5[1]​ (6 de junio de 2022 (1 mes y 6 días))\n",
      "Sistema de tipos\n",
      "Fuertemente tipado, dinámico\n",
      "Implementaciones\n",
      "CPython, IronPython, Jython, Python for S60, PyPy, ActivePython, Unladen Swallow\n",
      "Dialectos\n",
      "Stackless Python, RPython\n",
      "Influido por\n",
      "ABC, ALGOL 68, C, Haskell, Icon, Lisp, Modula-3, Perl, Smalltalk, Java\n",
      "Ha influido a\n",
      "Boo, Cobra, D, Falcon, Genie, Groovy, Ruby, JavaScript, Cython, Go Latino\n",
      "Sistema operativo\n",
      "Multiplataforma\n",
      "Licencia\n",
      "Python Software Foundation License\n",
      "[editar datos en Wikidata]\n"
     ]
    }
   ],
   "source": [
    "tr_tags = soup.select(\".infobox tr\")\n",
    "\n",
    "for tr_tag in tr_tags: #para cada fila en las filas extraemos el texto\n",
    "    print(tr_tag.getText())"
   ]
  },
  {
   "cell_type": "code",
   "execution_count": 27,
   "id": "f100e123",
   "metadata": {},
   "outputs": [
    {
     "name": "stdout",
     "output_type": "stream",
     "text": [
      "Extensiones comunes: .py, .pyc, .pyd, .pyo, .pyw, .pyz, .pyi\n",
      "Paradigma: Multiparadigma: orientado a objetos, imperativo, funcional, reflexivo\n",
      "Apareció en: 1991\n",
      "Diseñado por: Guido van Rossum\n",
      "Última versión estable: 3.10.5[1]​ (6 de junio de 2022 (1 mes y 6 días))\n",
      "Sistema de tipos: Fuertemente tipado, dinámico\n",
      "Implementaciones: CPython, IronPython, Jython, Python for S60, PyPy, ActivePython, Unladen Swallow\n",
      "Dialectos: Stackless Python, RPython\n",
      "Influido por: ABC, ALGOL 68, C, Haskell, Icon, Lisp, Modula-3, Perl, Smalltalk, Java\n",
      "Ha influido a: Boo, Cobra, D, Falcon, Genie, Groovy, Ruby, JavaScript, Cython, Go Latino\n",
      "Sistema operativo: Multiplataforma\n",
      "Licencia: Python Software Foundation License\n"
     ]
    }
   ],
   "source": [
    "tr_tags = soup.select(\".infobox tr\")\n",
    "\n",
    "for tr_tag in tr_tags:\n",
    "    th_tags = tr_tag.select(\"th\") \n",
    "    td_tags = tr_tag.select(\"td\") \n",
    "    if len(th_tags) > 0 and len(td_tags) > 0: \n",
    "        print(f\"{th_tags[0].getText().strip()}: {td_tags[0].getText().strip()}\")"
   ]
  },
  {
   "cell_type": "markdown",
   "id": "0e1df761",
   "metadata": {},
   "source": [
    "### Scrapeando una imagen"
   ]
  },
  {
   "cell_type": "code",
   "execution_count": 28,
   "id": "381cb7da",
   "metadata": {},
   "outputs": [
    {
     "name": "stdout",
     "output_type": "stream",
     "text": [
      "<img alt=\"Python-logo-notext.svg\" data-file-height=\"110\" data-file-width=\"110\" decoding=\"async\" height=\"100\" src=\"//web.archive.org/web/20220722211457im_/https://upload.wikimedia.org/wikipedia/commons/thumb/c/c3/Python-logo-notext.svg/100px-Python-logo-notext.svg.png\" srcset=\"//web.archive.org/web/20220722211457im_/https://upload.wikimedia.org/wikipedia/commons/thumb/c/c3/Python-logo-notext.svg/150px-Python-logo-notext.svg.png 1.5x, //web.archive.org/web/20220722211457im_/https://upload.wikimedia.org/wikipedia/commons/thumb/c/c3/Python-logo-notext.svg/200px-Python-logo-notext.svg.png 2x\" width=\"100\"/>\n"
     ]
    }
   ],
   "source": [
    "img = soup.select(\".infobox img\")[0]\n",
    "print(img)"
   ]
  },
  {
   "cell_type": "code",
   "execution_count": 29,
   "id": "2aac466b",
   "metadata": {},
   "outputs": [
    {
     "name": "stdout",
     "output_type": "stream",
     "text": [
      "//web.archive.org/web/20220722211457im_/https://upload.wikimedia.org/wikipedia/commons/thumb/c/c3/Python-logo-notext.svg/100px-Python-logo-notext.svg.png\n"
     ]
    }
   ],
   "source": [
    "print(img['src'])"
   ]
  },
  {
   "cell_type": "code",
   "execution_count": 30,
   "id": "c834da94",
   "metadata": {},
   "outputs": [],
   "source": [
    "response = requests.get(f\"https:{img['src']}\")\n",
    "\n",
    "if response.status_code == 200:\n",
    "    with open(\"image.png\", 'wb') as f:\n",
    "        f.write(response.content)"
   ]
  },
  {
   "cell_type": "markdown",
   "id": "e02bec30",
   "metadata": {},
   "source": [
    "![](image.png)"
   ]
  }
 ],
 "metadata": {
  "kernelspec": {
   "display_name": "Python 3 (ipykernel)",
   "language": "python",
   "name": "python3"
  },
  "language_info": {
   "codemirror_mode": {
    "name": "ipython",
    "version": 3
   },
   "file_extension": ".py",
   "mimetype": "text/x-python",
   "name": "python",
   "nbconvert_exporter": "python",
   "pygments_lexer": "ipython3",
   "version": "3.11.7"
  }
 },
 "nbformat": 4,
 "nbformat_minor": 5
}
